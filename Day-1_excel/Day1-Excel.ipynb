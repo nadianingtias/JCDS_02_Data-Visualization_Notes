{
 "cells": [
  {
   "cell_type": "code",
   "execution_count": 1,
   "metadata": {
    "collapsed": true
   },
   "outputs": [],
   "source": [
    "import xlrd  #untuk read file excel\n",
    "import csv\n",
    "import json\n",
    "from pprint import pprint\n",
    "import xlsxwriter #untuk menulis fie excel"
   ]
  },
  {
   "cell_type": "code",
   "execution_count": 2,
   "metadata": {
    "collapsed": true
   },
   "outputs": [],
   "source": [
    "# Membuka workbook excel dengan package xlrd\n",
    "file = xlrd.open_workbook('file.xlsx')\n",
    "# Membuka lembaran Baru dalam workbook\n",
    "sheet = file.sheet_by_name('DataKaryawan')"
   ]
  },
  {
   "cell_type": "code",
   "execution_count": 3,
   "metadata": {},
   "outputs": [
    {
     "name": "stdout",
     "output_type": "stream",
     "text": [
      "No\n",
      "Nama\n",
      "Kota\n"
     ]
    }
   ],
   "source": [
    "#mencetak value di dalam cell\n",
    "print(sheet.cell_value(0,0)) #baris ke 0, kolom ke 0\n",
    "print(sheet.cell_value(0,1)) #baris ke 0, kolom ke 1\n",
    "print(sheet.cell_value(0,2)) #baris ke 0, kolom ke 2\n",
    "# print(sheet.cell_value(rowx=0,colx=0))"
   ]
  },
  {
   "cell_type": "code",
   "execution_count": 4,
   "metadata": {},
   "outputs": [
    {
     "name": "stdout",
     "output_type": "stream",
     "text": [
      "No\n",
      "Nama\n",
      "Kota\n"
     ]
    }
   ],
   "source": [
    "# Nama kolom di file xlsx\n",
    "for i in range(sheet.ncols):\n",
    "    print(sheet.cell_value(0,i)) # baris ke 0 untuk print header"
   ]
  },
  {
   "cell_type": "code",
   "execution_count": 5,
   "metadata": {},
   "outputs": [
    {
     "name": "stdout",
     "output_type": "stream",
     "text": [
      "No\n",
      "Nama\n",
      "Kota\n",
      "1.0\n",
      "Andi\n",
      "Semarang\n",
      "2.0\n",
      "Budi\n",
      "Surabaya\n",
      "3.0\n",
      "Caca\n",
      "Jakarta\n"
     ]
    }
   ],
   "source": [
    "for i in range(sheet.nrows):\n",
    "    for j in range(sheet.ncols):\n",
    "        print(sheet.cell_value(i,j))"
   ]
  },
  {
   "cell_type": "code",
   "execution_count": 6,
   "metadata": {},
   "outputs": [
    {
     "name": "stdout",
     "output_type": "stream",
     "text": [
      "['No', 'Nama', 'Kota']\n"
     ]
    }
   ],
   "source": [
    "cols = []\n",
    "for i in range(sheet.ncols):\n",
    "    cols.append(sheet.cell_value(0,i))\n",
    "print(cols)"
   ]
  },
  {
   "cell_type": "code",
   "execution_count": 7,
   "metadata": {},
   "outputs": [
    {
     "name": "stdout",
     "output_type": "stream",
     "text": [
      "[['No', 'Nama', 'Kota'], ['1.0', 'Andi', 'Semarang'], ['2.0', 'Budi', 'Surabaya'], ['3.0', 'Caca', 'Jakarta']]\n"
     ]
    }
   ],
   "source": [
    "rows = []\n",
    "for i in range(sheet.nrows):\n",
    "    rows.append(sheet.row_values(i))\n",
    "print(rows)\n"
   ]
  },
  {
   "cell_type": "markdown",
   "metadata": {},
   "source": [
    "## mengubah XLSX > JSON"
   ]
  },
  {
   "cell_type": "code",
   "execution_count": 8,
   "metadata": {},
   "outputs": [
    {
     "name": "stdout",
     "output_type": "stream",
     "text": [
      "[{'Kota': 'Semarang', 'Nama': 'Andi', 'No': '1.0'},\n",
      " {'Kota': 'Surabaya', 'Nama': 'Budi', 'No': '2.0'},\n",
      " {'Kota': 'Jakarta', 'Nama': 'Caca', 'No': '3.0'}]\n"
     ]
    }
   ],
   "source": [
    "## mengubah xlsx => json\n",
    "## xlsx => csv\n",
    "\n",
    "\n",
    "listObj = []\n",
    "for i in range(1, sheet.nrows):\n",
    "    obj = {}\n",
    "    for j in range(sheet.ncols):\n",
    "        obj[cols[j]] = rows[i][j]\n",
    "    listObj.append(obj)\n",
    "\n",
    "pprint(listObj)\n",
    "\n",
    "# Serialize the list of dicts to JSON\n",
    "j = json.dumps(listObj)\n",
    "# Write to file\n",
    "with open('data2.json', 'w') as f:\n",
    "    f.write(j)\n"
   ]
  },
  {
   "cell_type": "markdown",
   "metadata": {},
   "source": [
    "## mengubah XLSX > CSV"
   ]
  },
  {
   "cell_type": "code",
   "execution_count": 9,
   "metadata": {},
   "outputs": [
    {
     "name": "stdout",
     "output_type": "stream",
     "text": [
      "['No', 'Nama', 'Kota']\n",
      "['1.0', 'Andi', 'Semarang']\n",
      "['2.0', 'Budi', 'Surabaya']\n",
      "['3.0', 'Caca', 'Jakarta']\n"
     ]
    }
   ],
   "source": [
    "## xlsx => csv\n",
    "# dari INTERNET\n",
    "\n",
    "# wb = xlrd.open_workbook('MySpreadsheet.xlsx')\n",
    "# sh = wb.sheet_by_name('Sheet1')\n",
    "your_csv_file = open('outputData2.csv', 'w', encoding='utf8')\n",
    "csvWr = csv.writer(your_csv_file, quoting=csv.QUOTE_ALL)\n",
    "\n",
    "for rownum in range(sheet.nrows):\n",
    "    print(sheet.row_values(rownum))\n",
    "    csvWr.writerow(sheet.row_values(rownum))\n",
    "\n",
    "your_csv_file.close()"
   ]
  },
  {
   "cell_type": "code",
   "execution_count": 10,
   "metadata": {},
   "outputs": [
    {
     "name": "stdout",
     "output_type": "stream",
     "text": [
      "[['No', 'Nama', 'Kota'], ['1.0', 'Andi', 'Semarang'], ['2.0', 'Budi', 'Surabaya'], ['3.0', 'Caca', 'Jakarta']]\n",
      "[{'No': '1.0', 'Nama': 'Andi', 'Kota': 'Semarang'}, {'No': '2.0', 'Nama': 'Budi', 'Kota': 'Surabaya'}, {'No': '3.0', 'Nama': 'Caca', 'Kota': 'Jakarta'}]\n",
      "nama kolom :  ['No', 'Nama', 'Kota']\n"
     ]
    }
   ],
   "source": [
    "## xlsx => csv\n",
    "# =================================================================\n",
    "# menyiapkan data dari XLSX\n",
    "file = xlrd.open_workbook('file.xlsx')\n",
    "sheet = file.sheet_by_index(0)\n",
    "data = []\n",
    "for i in range(sheet.nrows):\n",
    "    data.append(sheet.row_values(i))\n",
    "print(data)\n",
    "# =================================================================\n",
    "#manipulasi pembentukan dictionary dari list !\n",
    "out = []\n",
    "for i in data:\n",
    "    out.append(dict(zip(data[0], i)))\n",
    "out = out[1:]\n",
    "print(out)\n",
    "# =================================================================\n",
    "#memasukkan dictionary out ke dalam CSV\n",
    "import csv\n",
    "with open('outputCSV_tutor.csv', 'w', newline='') as file:\n",
    "    kolom = data[0]\n",
    "    print(\"nama kolom : \",kolom)\n",
    "    tulis = csv.DictWriter(file, fieldnames=kolom) #inisialisasi hedaer kolom dengan nama klom yang sudah disave\n",
    "    tulis.writeheader() # menuliskan header sesuai dengan tulis atribut fieldname\n",
    "    tulis.writerows(out) # menuliskan list of dictionary out ke dalam baris2 CSV tulis \n",
    "    "
   ]
  },
  {
   "cell_type": "markdown",
   "metadata": {},
   "source": [
    "## Membuat XLSX"
   ]
  },
  {
   "cell_type": "code",
   "execution_count": 11,
   "metadata": {
    "collapsed": true
   },
   "outputs": [],
   "source": [
    "workBook = xlsxwriter.Workbook('fileSaya.xlsx')\n",
    "sheeta = workBook.add_worksheet(\"DataKaryawan\")\n",
    "\n",
    "sheeta.write(0,0, \"Nama\") # baris, kolom, value\n",
    "sheeta.write(0,1, \"Kota\")\n",
    "sheeta.write(0,2, \"Pekerjaan\")\n",
    "\n",
    "workBook.close()"
   ]
  },
  {
   "cell_type": "markdown",
   "metadata": {},
   "source": [
    "# Into XLSX\n",
    "\n",
    "## XLSX => new XLSX"
   ]
  },
  {
   "cell_type": "code",
   "execution_count": 12,
   "metadata": {},
   "outputs": [
    {
     "name": "stdout",
     "output_type": "stream",
     "text": [
      "[['No', 'Nama', 'Kota'], ['1.0', 'Andi', 'Semarang'], ['2.0', 'Budi', 'Surabaya'], ['3.0', 'Caca', 'Jakarta']]\n"
     ]
    }
   ],
   "source": [
    "file = xlrd.open_workbook('file.xlsx')\n",
    "sheet = file.sheet_by_name('DataKaryawan')\n",
    "\n",
    "data = []\n",
    "for i in range(sheet.nrows):\n",
    "    data.append(sheet.row_values(i))\n",
    "print(data)\n",
    "\n",
    "workBook = xlsxwriter.Workbook('fileXLSXtoXLSX.xlsx')\n",
    "sheeta = workBook.add_worksheet(\"DataKaryawan\")\n",
    "\n",
    "for i in range(sheet.nrows):\n",
    "    for j in range(sheet.ncols):\n",
    "        sheeta.write(i,j,data[i][j])\n",
    "\n",
    "workBook.close()"
   ]
  },
  {
   "cell_type": "markdown",
   "metadata": {},
   "source": [
    "## json => xlsx"
   ]
  },
  {
   "cell_type": "code",
   "execution_count": 13,
   "metadata": {},
   "outputs": [
    {
     "name": "stdout",
     "output_type": "stream",
     "text": [
      "{'No': '1.0', 'Nama': 'Andi', 'Kota': 'Semarang'}\n",
      "[['1.0', 'Andi', 'Semarang'], ['2.0', 'Budi', 'Surabaya'], ['3.0', 'Caca', 'Jakarta']]\n"
     ]
    }
   ],
   "source": [
    "with open('data2.json', 'r') as f:\n",
    "    out = json.load(f)\n",
    "    print(out[0])\n",
    "\n",
    "kolom = list(out[0].keys())\n",
    "#mengubah data dict ke dalam list\n",
    "data = []\n",
    "for i in out:\n",
    "    data.append(list(i.values()))\n",
    "\n",
    "print(data)\n",
    "#============================================================================\n",
    "workBook = xlsxwriter.Workbook('fileJSONtoXLSX.xlsx')\n",
    "sheeta = workBook.add_worksheet(\"DataKaryawan\")\n",
    "#write col\n",
    "for i in kolom:\n",
    "    sheeta.write(0,kolom.index(i), i)\n",
    "#write row\n",
    "row=1\n",
    "for x, y, z in data:\n",
    "    sheeta.write(row, 0, x)\n",
    "    sheeta.write(row, 1, y)\n",
    "    sheeta.write(row, 2, z)\n",
    "    row+=1\n",
    "#============================================================================\n",
    "    \n",
    "sheetB = workBook.add_worksheet(\"DataKaryawan2\")\n",
    "#write col\n",
    "for i in kolom:\n",
    "    sheetB.write(0,kolom.index(i), i)\n",
    "#write row\n",
    "row=1\n",
    "for x, y, z in data:\n",
    "    sheetB.write(row, 0, x)\n",
    "    sheetB.write(row, 1, y)\n",
    "    sheetB.write(row, 2, z)\n",
    "    row+=1\n",
    "    \n",
    "# workBook.close()\n",
    "    \n",
    "workBook.close()"
   ]
  },
  {
   "cell_type": "markdown",
   "metadata": {},
   "source": [
    "## From List into XLSX"
   ]
  },
  {
   "cell_type": "code",
   "execution_count": 14,
   "metadata": {
    "collapsed": true
   },
   "outputs": [],
   "source": [
    "# From LIST into XLSX\n",
    "\n",
    "col = ['no', 'nama', 'kota']\n",
    "data = [\n",
    "    [1,'andi','sby'],\n",
    "    [2,'budi','jkt'],\n",
    "    [3,'caca','sda']\n",
    "]\n",
    "#============================================================================\n",
    "workBook = xlsxwriter.Workbook('fileListtoXLSX.xlsx')\n",
    "sheeta = workBook.add_worksheet(\"DataKaryawan\")\n",
    "#write col\n",
    "for i in col:\n",
    "    sheeta.write(0,col.index(i), i)\n",
    "#write row\n",
    "row=1\n",
    "for x, y, z in data:\n",
    "    sheeta.write(row, 0, x)\n",
    "    sheeta.write(row, 1, y)\n",
    "    sheeta.write(row, 2, z)\n",
    "    row+=1\n",
    "    \n",
    "workBook.close()"
   ]
  },
  {
   "cell_type": "markdown",
   "metadata": {},
   "source": [
    "## CSV into XLSX"
   ]
  },
  {
   "cell_type": "code",
   "execution_count": 15,
   "metadata": {
    "collapsed": true
   },
   "outputs": [],
   "source": [
    "# CSV into XLSX\n",
    "import csv\n",
    "    \n",
    "with open('outputCSV_tutor.csv') as csv_file:\n",
    "    csv_reader = csv.reader(csv_file, delimiter=',')\n",
    "#     print(list(csv_reader))\n",
    "    dataFull = list(csv_reader)\n",
    "#     for x in csv_reader:\n",
    "#         print(x)\n",
    "        \n",
    "#============================================================================\n",
    "workBook = xlsxwriter.Workbook('fileCSVtoXLSX.xlsx')\n",
    "sheeta = workBook.add_worksheet(\"DataKaryawan\")\n",
    "\n",
    "for row in dataFull:\n",
    "#     print(row)\n",
    "    for col in row:\n",
    "#         print(col)\n",
    "        sheeta.write(dataFull.index(row), row.index(col), col)\n",
    "\n",
    "workBook.close()\n",
    "    "
   ]
  },
  {
   "cell_type": "code",
   "execution_count": null,
   "metadata": {
    "collapsed": true
   },
   "outputs": [],
   "source": []
  },
  {
   "cell_type": "markdown",
   "metadata": {},
   "source": [
    "## Tugas Append dari input user"
   ]
  },
  {
   "cell_type": "code",
   "execution_count": 16,
   "metadata": {},
   "outputs": [
    {
     "name": "stdout",
     "output_type": "stream",
     "text": [
      "['No', 'Nama', 'Kota']\n",
      "['1.0', 'Andi', 'Semarang']\n",
      "['2.0', 'Budi', 'Surabaya']\n",
      "['3.0', 'Caca', 'Jakarta']\n",
      "[['No', 'Nama', 'Kota'], ['1.0', 'Andi', 'Semarang'], ['2.0', 'Budi', 'Surabaya'], ['3.0', 'Caca', 'Jakarta']]\n",
      "Nama : Nadia\n",
      "Kota : surabaya\n",
      "[4, 'Nadia', 'surabaya']\n",
      "input lagi ? : y\n",
      "Nama : rahmad\n",
      "Kota : sidoarjo\n",
      "[5, 'rahmad', 'sidoarjo']\n",
      "input lagi ? : t\n",
      "[[4, 'Nadia', 'surabaya'], [5, 'rahmad', 'sidoarjo']]\n",
      "[['No', 'Nama', 'Kota'], ['1.0', 'Andi', 'Semarang'], ['2.0', 'Budi', 'Surabaya'], ['3.0', 'Caca', 'Jakarta'], [4, 'Nadia', 'surabaya'], [5, 'rahmad', 'sidoarjo']]\n"
     ]
    }
   ],
   "source": [
    "## TUGAS - input console - kemudian append ke dalam file excel\n",
    "\n",
    "file2 = xlrd.open_workbook('file.xlsx')\n",
    "sheet2 = file2.sheet_by_name('DataKaryawan')\n",
    "\n",
    "fullData = []\n",
    "for i in range(sheet2.nrows):\n",
    "    print(sheet2.row_values(i))\n",
    "    exist = sheet2.row_values(i)\n",
    "    fullData.append(exist)\n",
    "print(fullData)\n",
    "\n",
    "#============================================================================\n",
    "# SOMETHING we append, ditambahkan disini\n",
    "\n",
    "dataTambahan = []\n",
    "counter = len(fullData[-1][0])\n",
    "again = 'y'\n",
    "while(again=='y' or again=='Y'):\n",
    "    counter+=1\n",
    "    temList =[]\n",
    "    temList.append(counter)\n",
    "    temList.append(input(\"Nama : \"))\n",
    "    temList.append(input(\"Kota : \"))\n",
    "    print(temList)\n",
    "    dataTambahan.append(temList)\n",
    "    again = input(\"input lagi ? : \")\n",
    "    \n",
    "print(dataTambahan)\n",
    "        \n",
    "#============================================================================\n",
    "dataAll = fullData + dataTambahan\n",
    "print(dataAll)\n",
    "\n",
    "workBook = xlsxwriter.Workbook('fileAppend.xlsx')\n",
    "sheeta = workBook.add_worksheet(\"DataKaryawan\")\n",
    "\n",
    "for row in dataAll:\n",
    "#     print(row)\n",
    "    for col in row:\n",
    "#         print(col)\n",
    "        sheeta.write(dataAll.index(row), row.index(col), col)\n",
    "\n",
    "workBook.close()"
   ]
  },
  {
   "cell_type": "code",
   "execution_count": null,
   "metadata": {
    "collapsed": true
   },
   "outputs": [],
   "source": []
  }
 ],
 "metadata": {
  "kernelspec": {
   "display_name": "Python 3",
   "language": "python",
   "name": "python3"
  },
  "language_info": {
   "codemirror_mode": {
    "name": "ipython",
    "version": 3
   },
   "file_extension": ".py",
   "mimetype": "text/x-python",
   "name": "python",
   "nbconvert_exporter": "python",
   "pygments_lexer": "ipython3",
   "version": "3.6.1"
  }
 },
 "nbformat": 4,
 "nbformat_minor": 2
}
