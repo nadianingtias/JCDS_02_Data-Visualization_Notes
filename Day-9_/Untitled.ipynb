{
 "cells": [
  {
   "cell_type": "code",
   "execution_count": 1,
   "metadata": {
    "collapsed": true
   },
   "outputs": [],
   "source": [
    "import pymongo"
   ]
  },
  {
   "cell_type": "code",
   "execution_count": 26,
   "metadata": {
    "collapsed": true
   },
   "outputs": [],
   "source": [
    "import datetime\n",
    "import pytz"
   ]
  },
  {
   "cell_type": "code",
   "execution_count": 3,
   "metadata": {},
   "outputs": [
    {
     "data": {
      "text/plain": [
       "['DB_MDcek',\n",
       " 'MDcek',\n",
       " 'MDcek_django',\n",
       " 'admin',\n",
       " 'batam',\n",
       " 'config',\n",
       " 'local',\n",
       " 'resto',\n",
       " 'test',\n",
       " 'tokobuah',\n",
       " 'tokoonline']"
      ]
     },
     "execution_count": 3,
     "metadata": {},
     "output_type": "execute_result"
    }
   ],
   "source": [
    "client = pymongo.MongoClient('localhost', 27017)\n",
    "\n",
    "# SHOW semua DATABASE yang ada di dalam mongoDB\n",
    "dbs = client.list_database_names()\n",
    "dbs"
   ]
  },
  {
   "cell_type": "code",
   "execution_count": 9,
   "metadata": {},
   "outputs": [
    {
     "data": {
      "text/plain": [
       "['DB_MDcek',\n",
       " 'MDcek',\n",
       " 'MDcek_django',\n",
       " 'admin',\n",
       " 'batam',\n",
       " 'config',\n",
       " 'local',\n",
       " 'resto',\n",
       " 'test',\n",
       " 'tokobuah',\n",
       " 'tokoonline']"
      ]
     },
     "execution_count": 9,
     "metadata": {},
     "output_type": "execute_result"
    }
   ],
   "source": [
    "mydb = client['MyNewDB']\n",
    "mycol = mydb['waktu']\n",
    "dbs = client.list_database_names()\n",
    "dbs"
   ]
  },
  {
   "cell_type": "code",
   "execution_count": 11,
   "metadata": {},
   "outputs": [
    {
     "data": {
      "text/plain": [
       "<pymongo.results.InsertOneResult at 0x144efa79c88>"
      ]
     },
     "execution_count": 11,
     "metadata": {},
     "output_type": "execute_result"
    }
   ],
   "source": [
    "mycol.insert_one({\n",
    "        'nama' : 'Budi', 'waktu' : datetime.datetime.now()\n",
    "})"
   ]
  },
  {
   "cell_type": "code",
   "execution_count": 12,
   "metadata": {
    "scrolled": true
   },
   "outputs": [
    {
     "name": "stdout",
     "output_type": "stream",
     "text": [
      "[{'_id': ObjectId('5ddca3a4528aba33b2d1585e'), 'nama': 'Budi', 'waktu': datetime.datetime(2019, 11, 26, 11, 1, 40, 838000)}, {'_id': ObjectId('5ddca3ac528aba33b2d1585f'), 'nama': 'Budi', 'waktu': datetime.datetime(2019, 11, 26, 11, 1, 48, 463000)}]\n"
     ]
    }
   ],
   "source": [
    "print(list(mycol.find()))"
   ]
  },
  {
   "cell_type": "code",
   "execution_count": 18,
   "metadata": {},
   "outputs": [
    {
     "name": "stdout",
     "output_type": "stream",
     "text": [
      "2019-11-26 11:01:40.838000\n"
     ]
    }
   ],
   "source": [
    "query = (list(mycol.find({'nama':'Budi'},{'waktu':1})))\n",
    "print(list(query)[0]['waktu'])"
   ]
  },
  {
   "cell_type": "code",
   "execution_count": 24,
   "metadata": {
    "scrolled": true
   },
   "outputs": [
    {
     "name": "stdout",
     "output_type": "stream",
     "text": [
      "[{'_id': ObjectId('5ddca3a4528aba33b2d1585e'), 'nama': 'Budi', 'waktu': datetime.datetime(2019, 11, 26, 11, 1, 40, 838000)}, {'_id': ObjectId('5ddca3ac528aba33b2d1585f'), 'nama': 'Budi', 'waktu': datetime.datetime(2019, 11, 26, 11, 1, 48, 463000)}, {'_id': ObjectId('5ddca54b528aba33b2d15860'), 'nama': 'Nadia', 'waktu': datetime.datetime(2019, 11, 26, 4, 8, 43, 998000)}, {'_id': ObjectId('5ddca566528aba33b2d15861'), 'nama': 'Nadia', 'waktu': datetime.datetime(2019, 11, 26, 4, 9, 10, 362000)}, {'_id': ObjectId('5ddca581528aba33b2d15862'), 'nama': 'Nadia', 'waktu': datetime.datetime(2019, 11, 26, 4, 9, 37, 49000)}, {'_id': ObjectId('5ddca58d528aba33b2d15863'), 'nama': 'Nadia', 'waktu': datetime.datetime(2019, 11, 26, 4, 9, 49, 785000)}, {'_id': ObjectId('5ddca58f528aba33b2d15864'), 'nama': 'Nadia', 'waktu': datetime.datetime(2019, 11, 26, 4, 9, 51, 380000)}]\n"
     ]
    }
   ],
   "source": [
    "mycol.insert_one({\n",
    "        'nama' : 'Nadia', 'waktu' : datetime.datetime.utcnow()\n",
    "})\n",
    "print(list(mycol.find()))"
   ]
  },
  {
   "cell_type": "code",
   "execution_count": 28,
   "metadata": {},
   "outputs": [
    {
     "name": "stdout",
     "output_type": "stream",
     "text": [
      "2019-11-26 04:08:43.998000\n"
     ]
    }
   ],
   "source": [
    "query = (list(mycol.find({'nama':'Nadia'},{'waktu':1})))\n",
    "print(list(query)[0]['waktu'])"
   ]
  },
  {
   "cell_type": "code",
   "execution_count": 30,
   "metadata": {},
   "outputs": [
    {
     "data": {
      "text/plain": [
       "<pymongo.results.InsertOneResult at 0x144efaa3648>"
      ]
     },
     "execution_count": 30,
     "metadata": {},
     "output_type": "execute_result"
    }
   ],
   "source": [
    "jkt = pytz.timezone('Asia/Jakarta')\n",
    "mycol.insert_one({\n",
    "    'nama' : 'Deni',\n",
    "    'waktu' : datetime.datetime.utcnow()\n",
    "})"
   ]
  },
  {
   "cell_type": "code",
   "execution_count": 31,
   "metadata": {},
   "outputs": [
    {
     "name": "stdout",
     "output_type": "stream",
     "text": [
      "2019-11-26 04:08:43.998000+07:00\n"
     ]
    }
   ],
   "source": [
    "# untuk menambahkan +7 (WIB = GMT +7)\n",
    "\n",
    "print(jkt.localize(list(query)[0]['waktu']))"
   ]
  }
 ],
 "metadata": {
  "kernelspec": {
   "display_name": "Python 3",
   "language": "python",
   "name": "python3"
  },
  "language_info": {
   "codemirror_mode": {
    "name": "ipython",
    "version": 3
   },
   "file_extension": ".py",
   "mimetype": "text/x-python",
   "name": "python",
   "nbconvert_exporter": "python",
   "pygments_lexer": "ipython3",
   "version": "3.6.1"
  }
 },
 "nbformat": 4,
 "nbformat_minor": 2
}
