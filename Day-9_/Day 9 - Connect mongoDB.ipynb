{
 "cells": [
  {
   "cell_type": "code",
   "execution_count": 120,
   "metadata": {},
   "outputs": [
    {
     "name": "stdout",
     "output_type": "stream",
     "text": [
      "Collecting jupyterlab\n",
      "  Downloading https://files.pythonhosted.org/packages/eb/94/cd9e53b9d3e4c35202dec30e1b623c355bd9de2b0c53e1bc7f4af31d25d8/jupyterlab-1.2.3-py2.py3-none-any.whl (6.4MB)\n",
      "Collecting jinja2>=2.10 (from jupyterlab)\n",
      "  Downloading https://files.pythonhosted.org/packages/65/e0/eb35e762802015cab1ccee04e8a277b03f1d8e53da3ec3106882ec42558b/Jinja2-2.10.3-py2.py3-none-any.whl (125kB)\n",
      "Requirement already satisfied: notebook>=4.3.1 in c:\\users\\nadian\\anaconda3\\lib\\site-packages (from jupyterlab)\n",
      "Requirement already satisfied: tornado!=6.0.0,!=6.0.1,!=6.0.2 in c:\\users\\nadian\\anaconda3\\lib\\site-packages (from jupyterlab)\n",
      "Collecting jupyterlab-server~=1.0.0 (from jupyterlab)\n",
      "  Downloading https://files.pythonhosted.org/packages/78/98/5b87b9d38176bd98f23b58a8fb730e5124618d68571a011abbd38ad4a842/jupyterlab_server-1.0.6-py3-none-any.whl\n",
      "Requirement already satisfied: MarkupSafe>=0.23 in c:\\users\\nadian\\anaconda3\\lib\\site-packages (from jinja2>=2.10->jupyterlab)\n",
      "Collecting jsonschema>=3.0.1 (from jupyterlab-server~=1.0.0->jupyterlab)\n",
      "  Downloading https://files.pythonhosted.org/packages/c5/8f/51e89ce52a085483359217bc72cdbf6e75ee595d5b1d4b5ade40c7e018b8/jsonschema-3.2.0-py2.py3-none-any.whl (56kB)\n",
      "Collecting json5 (from jupyterlab-server~=1.0.0->jupyterlab)\n",
      "  Downloading https://files.pythonhosted.org/packages/30/44/062543d4a6718f99d82e5ecf9140dbdee8a03122f2c34fbd0b0609891707/json5-0.8.5-py2.py3-none-any.whl\n",
      "Collecting pyrsistent>=0.14.0 (from jsonschema>=3.0.1->jupyterlab-server~=1.0.0->jupyterlab)\n",
      "  Downloading https://files.pythonhosted.org/packages/6c/6f/c1a2e8da80a0029f6b618d7e20e1a6f2a61dd04e2e54225309c2cc4268f7/pyrsistent-0.15.6.tar.gz (107kB)\n",
      "Collecting importlib-metadata; python_version < \"3.8\" (from jsonschema>=3.0.1->jupyterlab-server~=1.0.0->jupyterlab)\n",
      "  Downloading https://files.pythonhosted.org/packages/f6/d2/40b3fa882147719744e6aa50ac39cf7a22a913cbcba86a0371176c425a3b/importlib_metadata-0.23-py2.py3-none-any.whl\n",
      "Requirement already satisfied: setuptools in c:\\users\\nadian\\anaconda3\\lib\\site-packages\\setuptools-27.2.0-py3.6.egg (from jsonschema>=3.0.1->jupyterlab-server~=1.0.0->jupyterlab)\n",
      "Collecting attrs>=17.4.0 (from jsonschema>=3.0.1->jupyterlab-server~=1.0.0->jupyterlab)\n",
      "  Downloading https://files.pythonhosted.org/packages/a2/db/4313ab3be961f7a763066401fb77f7748373b6094076ae2bda2806988af6/attrs-19.3.0-py2.py3-none-any.whl\n",
      "Collecting six>=1.11.0 (from jsonschema>=3.0.1->jupyterlab-server~=1.0.0->jupyterlab)\n",
      "  Downloading https://files.pythonhosted.org/packages/65/26/32b8464df2a97e6dd1b656ed26b2c194606c16fe163c695a992b36c11cdf/six-1.13.0-py2.py3-none-any.whl\n",
      "Collecting zipp>=0.5 (from importlib-metadata; python_version < \"3.8\"->jsonschema>=3.0.1->jupyterlab-server~=1.0.0->jupyterlab)\n",
      "  Downloading https://files.pythonhosted.org/packages/74/3d/1ee25a26411ba0401b43c6376d2316a71addcc72ef8690b101b4ea56d76a/zipp-0.6.0-py2.py3-none-any.whl\n",
      "Collecting more-itertools (from zipp>=0.5->importlib-metadata; python_version < \"3.8\"->jsonschema>=3.0.1->jupyterlab-server~=1.0.0->jupyterlab)\n",
      "  Downloading https://files.pythonhosted.org/packages/45/dc/3241eef99eb45f1def35cf93af35d1cf9ef4c0991792583b8f33ea41b092/more_itertools-7.2.0-py3-none-any.whl (57kB)\n",
      "Building wheels for collected packages: pyrsistent\n",
      "  Running setup.py bdist_wheel for pyrsistent: started\n",
      "  Running setup.py bdist_wheel for pyrsistent: finished with status 'done'\n",
      "  Stored in directory: C:\\Users\\Nadian\\AppData\\Local\\pip\\Cache\\wheels\\83\\89\\d3\\1712b9c33c9b9c0911b188a86aeff2a9a05e113f986cf79d92\n",
      "Successfully built pyrsistent\n",
      "Installing collected packages: jinja2, six, pyrsistent, more-itertools, zipp, importlib-metadata, attrs, jsonschema, json5, jupyterlab-server, jupyterlab\n",
      "  Found existing installation: Jinja2 2.9.6\n",
      "    Uninstalling Jinja2-2.9.6:\n",
      "      Successfully uninstalled Jinja2-2.9.6\n",
      "  Found existing installation: six 1.10.0\n",
      "    Uninstalling six-1.10.0:\n",
      "      Successfully uninstalled six-1.10.0\n",
      "  Found existing installation: jsonschema 2.6.0\n",
      "    Uninstalling jsonschema-2.6.0:\n",
      "      Successfully uninstalled jsonschema-2.6.0\n",
      "Successfully installed attrs-19.3.0 importlib-metadata-0.23 jinja2-2.10.3 json5-0.8.5 jsonschema-3.2.0 jupyterlab-1.2.3 jupyterlab-server-1.0.6 more-itertools-7.2.0 pyrsistent-0.15.6 six-1.13.0 zipp-0.6.0\n"
     ]
    },
    {
     "name": "stderr",
     "output_type": "stream",
     "text": [
      "  Cache entry deserialization failed, entry ignored\n",
      "  Cache entry deserialization failed, entry ignored\n",
      "  Cache entry deserialization failed, entry ignored\n",
      "    DEPRECATION: Uninstalling a distutils installed project (six) has been deprecated and will be removed in a future version. This is due to the fact that uninstalling a distutils project will only partially uninstall the project.\n",
      "You are using pip version 9.0.1, however version 19.3.1 is available.\n",
      "You should consider upgrading via the 'python -m pip install --upgrade pip' command.\n"
     ]
    }
   ],
   "source": [
    "!pip install jupyterlab"
   ]
  },
  {
   "cell_type": "code",
   "execution_count": 2,
   "metadata": {
    "scrolled": true
   },
   "outputs": [
    {
     "name": "stdout",
     "output_type": "stream",
     "text": [
      "Collecting pymongo\n",
      "  Downloading https://files.pythonhosted.org/packages/89/52/829cb3b58047af08f4cf7905be3545b7718b96e9c83142072edb48ee5d05/pymongo-3.9.0-cp36-cp36m-win_amd64.whl (351kB)\n",
      "Installing collected packages: pymongo\n",
      "Successfully installed pymongo-3.9.0\n"
     ]
    },
    {
     "name": "stderr",
     "output_type": "stream",
     "text": [
      "  Cache entry deserialization failed, entry ignored\n",
      "You are using pip version 9.0.1, however version 19.3.1 is available.\n",
      "You should consider upgrading via the 'python -m pip install --upgrade pip' command.\n"
     ]
    }
   ],
   "source": [
    "# !pip install pymongob"
   ]
  },
  {
   "cell_type": "code",
   "execution_count": 119,
   "metadata": {},
   "outputs": [
    {
     "name": "stdout",
     "output_type": "stream",
     "text": [
      "Collecting kaggle\n",
      "  Downloading https://files.pythonhosted.org/packages/62/ab/bb20f9b9e24f9a6250f95a432f8d9a7d745f8d24039d7a5a6eaadb7783ba/kaggle-1.5.6.tar.gz (58kB)\n",
      "Requirement already satisfied: urllib3<1.25,>=1.21.1 in c:\\users\\nadian\\anaconda3\\lib\\site-packages (from kaggle)\n",
      "Requirement already satisfied: six>=1.10 in c:\\users\\nadian\\anaconda3\\lib\\site-packages (from kaggle)\n",
      "Requirement already satisfied: certifi in c:\\users\\nadian\\anaconda3\\lib\\site-packages (from kaggle)\n",
      "Requirement already satisfied: python-dateutil in c:\\users\\nadian\\anaconda3\\lib\\site-packages (from kaggle)\n",
      "Requirement already satisfied: requests in c:\\users\\nadian\\anaconda3\\lib\\site-packages (from kaggle)\n",
      "Collecting tqdm (from kaggle)\n",
      "  Downloading https://files.pythonhosted.org/packages/bb/62/6f823501b3bf2bac242bd3c320b592ad1516b3081d82c77c1d813f076856/tqdm-4.39.0-py2.py3-none-any.whl (53kB)\n",
      "Collecting python-slugify (from kaggle)\n",
      "  Downloading https://files.pythonhosted.org/packages/92/5f/7b84a0bba8a0fdd50c046f8b57dcf179dc16237ad33446079b7c484de04c/python-slugify-4.0.0.tar.gz\n",
      "Requirement already satisfied: idna<2.9,>=2.5 in c:\\users\\nadian\\anaconda3\\lib\\site-packages (from requests->kaggle)\n",
      "Requirement already satisfied: chardet<3.1.0,>=3.0.2 in c:\\users\\nadian\\anaconda3\\lib\\site-packages (from requests->kaggle)\n",
      "Collecting text-unidecode>=1.3 (from python-slugify->kaggle)\n",
      "  Downloading https://files.pythonhosted.org/packages/a6/a5/c0b6468d3824fe3fde30dbb5e1f687b291608f9473681bbf7dabbf5a87d7/text_unidecode-1.3-py2.py3-none-any.whl (78kB)\n",
      "Building wheels for collected packages: kaggle, python-slugify\n",
      "  Running setup.py bdist_wheel for kaggle: started\n",
      "  Running setup.py bdist_wheel for kaggle: finished with status 'done'\n",
      "  Stored in directory: C:\\Users\\Nadian\\AppData\\Local\\pip\\Cache\\wheels\\57\\4e\\e8\\bb28d035162fb8f17f8ca5d42c3230e284c6aa565b42b72674\n",
      "  Running setup.py bdist_wheel for python-slugify: started\n",
      "  Running setup.py bdist_wheel for python-slugify: finished with status 'done'\n",
      "  Stored in directory: C:\\Users\\Nadian\\AppData\\Local\\pip\\Cache\\wheels\\11\\94\\81\\312969455540cb0e6a773e5d68a73c14128bfdfd4a7969bb4f\n",
      "Successfully built kaggle python-slugify\n",
      "Installing collected packages: tqdm, text-unidecode, python-slugify, kaggle\n",
      "Successfully installed kaggle-1.5.6 python-slugify-4.0.0 text-unidecode-1.3 tqdm-4.39.0\n"
     ]
    },
    {
     "name": "stderr",
     "output_type": "stream",
     "text": [
      "  Cache entry deserialization failed, entry ignored\n",
      "You are using pip version 9.0.1, however version 19.3.1 is available.\n",
      "You should consider upgrading via the 'python -m pip install --upgrade pip' command.\n"
     ]
    }
   ],
   "source": [
    "!pip install kaggle"
   ]
  },
  {
   "cell_type": "code",
   "execution_count": 41,
   "metadata": {
    "scrolled": true
   },
   "outputs": [],
   "source": [
    "import pymongo\n",
    "from pprint import pprint"
   ]
  },
  {
   "cell_type": "code",
   "execution_count": 10,
   "metadata": {
    "scrolled": true
   },
   "outputs": [
    {
     "data": {
      "text/plain": [
       "['DB_MDcek',\n",
       " 'MDcek',\n",
       " 'MDcek_django',\n",
       " 'admin',\n",
       " 'batam',\n",
       " 'config',\n",
       " 'local',\n",
       " 'resto',\n",
       " 'test',\n",
       " 'tokobuah',\n",
       " 'tokoonline']"
      ]
     },
     "execution_count": 10,
     "metadata": {},
     "output_type": "execute_result"
    }
   ],
   "source": [
    "client = pymongo.MongoClient('localhost', 27017)\n",
    "\n",
    "# SHOW semua DATABASE yang ada di dalam mongoDB\n",
    "dbs = client.list_database_names()\n",
    "dbs"
   ]
  },
  {
   "cell_type": "code",
   "execution_count": 28,
   "metadata": {},
   "outputs": [
    {
     "name": "stdout",
     "output_type": "stream",
     "text": [
      "Semua collection di db resto :  ['myCol', 'restaurants']\n"
     ]
    },
    {
     "name": "stderr",
     "output_type": "stream",
     "text": [
      "C:\\Users\\Nadian\\Anaconda3\\lib\\site-packages\\ipykernel_launcher.py:3: DeprecationWarning: collection_names is deprecated. Use list_collection_names instead.\n",
      "  This is separate from the ipykernel package so we can avoid doing imports until\n"
     ]
    }
   ],
   "source": [
    "# cara AKSES DATABASE\n",
    "dbTokoBuah = client['resto']\n",
    "cols = dbTokoBuah.collection_names()\n",
    "print(\"Semua collection di db resto : \", cols)\n",
    "# print(list(col.))"
   ]
  },
  {
   "cell_type": "markdown",
   "metadata": {},
   "source": [
    "## READ"
   ]
  },
  {
   "cell_type": "code",
   "execution_count": 51,
   "metadata": {},
   "outputs": [
    {
     "name": "stdout",
     "output_type": "stream",
     "text": [
      "[{'_id': ObjectId('5ddc8ee8c4c8b9c4e491fedb'),\n",
      "  'kota': 'Jakarta',\n",
      "  'nama': 'Andi',\n",
      "  'usia': 19.0},\n",
      " {'_id': ObjectId('5ddc8ee8c4c8b9c4e491fedc'),\n",
      "  'kota': 'Bandung',\n",
      "  'nama': 'Budi',\n",
      "  'usia': 25.0},\n",
      " {'_id': ObjectId('5ddc8ee8c4c8b9c4e491fedd'),\n",
      "  'kota': 'Bandung',\n",
      "  'nama': 'Caca',\n",
      "  'usia': 31.0},\n",
      " {'_id': ObjectId('5ddc8ee8c4c8b9c4e491fede'),\n",
      "  'kota': 'Surabaya',\n",
      "  'nama': 'Nadia',\n",
      "  'usia': 21.0},\n",
      " {'_id': ObjectId('5ddc964201dfd554d07b0f09'),\n",
      "  'kota': 'Kediri',\n",
      "  'nama': 'Yusril',\n",
      "  'usia': 21}]\n"
     ]
    }
   ],
   "source": [
    "colResto = dbTokoBuah[cols[0]]\n",
    "\n",
    "# READ\n",
    "myColData = list(colResto.find())\n",
    "pprint(myColData)"
   ]
  },
  {
   "cell_type": "code",
   "execution_count": 49,
   "metadata": {
    "scrolled": true
   },
   "outputs": [
    {
     "name": "stdout",
     "output_type": "stream",
     "text": [
      "[{'_id': ObjectId('5ddc8ee8c4c8b9c4e491fedb'),\n",
      "  'kota': 'Jakarta',\n",
      "  'nama': 'Andi',\n",
      "  'usia': 19.0},\n",
      " {'_id': ObjectId('5ddc8ee8c4c8b9c4e491fedc'),\n",
      "  'kota': 'Bandung',\n",
      "  'nama': 'Budi',\n",
      "  'usia': 25.0},\n",
      " {'_id': ObjectId('5ddc8ee8c4c8b9c4e491fedd'),\n",
      "  'kota': 'Bandung',\n",
      "  'nama': 'Caca',\n",
      "  'usia': 31.0},\n",
      " {'_id': ObjectId('5ddc8ee8c4c8b9c4e491fede'),\n",
      "  'kota': 'Surabaya',\n",
      "  'nama': 'Nadia',\n",
      "  'usia': 21.0}]\n"
     ]
    }
   ],
   "source": [
    "myColDataGT24 = list(colResto.find({'usia':{'$gt': 24}} ))\n",
    "pprint(myColData)"
   ]
  },
  {
   "cell_type": "markdown",
   "metadata": {},
   "source": [
    "# CREATE\n",
    "\n",
    "- insert satu data\n",
    "- insert many data\n",
    "- insert satu data dan menampilkan hasil insertnya dengan .inserted_ids\n",
    "- insert satu data dan menampilkan hasil insertnya dengan .inserted_id"
   ]
  },
  {
   "cell_type": "code",
   "execution_count": 50,
   "metadata": {},
   "outputs": [
    {
     "data": {
      "text/plain": [
       "<pymongo.results.InsertOneResult at 0x16539200e88>"
      ]
     },
     "execution_count": 50,
     "metadata": {},
     "output_type": "execute_result"
    }
   ],
   "source": [
    "#========================== insert satu data\n",
    "mydata = {\n",
    "        'nama': 'Yusril', 'usia' : 21, 'kota' : 'Kediri' \n",
    "}\n",
    "colResto.insert_one(mydata)"
   ]
  },
  {
   "cell_type": "code",
   "execution_count": 69,
   "metadata": {
    "scrolled": true
   },
   "outputs": [
    {
     "name": "stdout",
     "output_type": "stream",
     "text": [
      "[{'_id': ObjectId('5ddc8ee8c4c8b9c4e491fedb'),\n",
      "  'kota': 'Jakarta',\n",
      "  'nama': 'Andi',\n",
      "  'usia': 19.0},\n",
      " {'_id': ObjectId('5ddc8ee8c4c8b9c4e491fedc'),\n",
      "  'kota': 'Bandung',\n",
      "  'nama': 'Budi',\n",
      "  'usia': 25.0},\n",
      " {'_id': ObjectId('5ddc8ee8c4c8b9c4e491fedd'),\n",
      "  'kota': 'Bandung',\n",
      "  'nama': 'Caca',\n",
      "  'usia': 31.0},\n",
      " {'_id': ObjectId('5ddc8ee8c4c8b9c4e491fede'),\n",
      "  'kota': 'Surabaya',\n",
      "  'nama': 'Nadia',\n",
      "  'usia': 21.0},\n",
      " {'_id': ObjectId('5ddc964201dfd554d07b0f09'),\n",
      "  'kota': 'Kediri',\n",
      "  'nama': 'Yusril',\n",
      "  'usia': 21},\n",
      " {'_id': ObjectId('5ddc972001dfd554d07b0f0a'),\n",
      "  'kota': 'Kediri',\n",
      "  'nama': 'Ahmada',\n",
      "  'usia': 21},\n",
      " {'_id': ObjectId('5ddc972001dfd554d07b0f0b'),\n",
      "  'kota': 'Surabaya',\n",
      "  'nama': 'Zunia',\n",
      "  'usia': 23},\n",
      " {'_id': ObjectId('5ddc981001dfd554d07b0f0c'),\n",
      "  'kota': 'Kediri',\n",
      "  'nama': 'Ahmada',\n",
      "  'usia': 21},\n",
      " {'_id': ObjectId('5ddc981001dfd554d07b0f0d'),\n",
      "  'kota': 'Surabaya',\n",
      "  'nama': 'Zunia',\n",
      "  'usia': 23},\n",
      " {'_id': ObjectId('5ddc981f01dfd554d07b0f0e'),\n",
      "  'kota': 'Kediri',\n",
      "  'nama': 'Ahmada',\n",
      "  'usia': 21},\n",
      " {'_id': ObjectId('5ddc981f01dfd554d07b0f0f'),\n",
      "  'kota': 'Surabaya',\n",
      "  'nama': 'Zunia',\n",
      "  'usia': 23},\n",
      " {'_id': ObjectId('5ddc983001dfd554d07b0f10'),\n",
      "  'kota': 'Kediri',\n",
      "  'nama': 'Ahmada',\n",
      "  'usia': 21},\n",
      " {'_id': ObjectId('5ddc983001dfd554d07b0f11'),\n",
      "  'kota': 'Surabaya',\n",
      "  'nama': 'Zunia',\n",
      "  'usia': 23}]\n"
     ]
    }
   ],
   "source": [
    "# hanya cek\n",
    "myColData = list(colResto.find())\n",
    "pprint(myColData)"
   ]
  },
  {
   "cell_type": "code",
   "execution_count": 65,
   "metadata": {},
   "outputs": [],
   "source": [
    "#==========================INSERT BANYAK\n",
    "mydatas = [\n",
    "        {'nama': 'Ahmada', 'usia' : 21, 'kota' : 'Kediri' },\n",
    "    {'nama': 'Zunia', 'usia' : 23, 'kota' : 'Surabaya' }\n",
    "    \n",
    "]\n",
    "x = colResto.insert_many(mydatas)\n"
   ]
  },
  {
   "cell_type": "code",
   "execution_count": 66,
   "metadata": {},
   "outputs": [
    {
     "data": {
      "text/plain": [
       "[ObjectId('5ddc983001dfd554d07b0f10'), ObjectId('5ddc983001dfd554d07b0f11')]"
      ]
     },
     "execution_count": 66,
     "metadata": {},
     "output_type": "execute_result"
    }
   ],
   "source": [
    "# menyimpan objectID dari data yang dimasukkan\n",
    "ids = x.inserted_ids\n",
    "ids"
   ]
  },
  {
   "cell_type": "code",
   "execution_count": 74,
   "metadata": {
    "scrolled": true
   },
   "outputs": [
    {
     "name": "stdout",
     "output_type": "stream",
     "text": [
      "16\n"
     ]
    }
   ],
   "source": [
    "# hanya cek banyak data sekarang\n",
    "myColData = list(colResto.find())\n",
    "pprint(len(myColData))"
   ]
  },
  {
   "cell_type": "code",
   "execution_count": 73,
   "metadata": {},
   "outputs": [
    {
     "name": "stdout",
     "output_type": "stream",
     "text": [
      "[{'_id': ObjectId('5ddc9b5001dfd554d07b0f14'), 'nama': 'lili'}]\n"
     ]
    }
   ],
   "source": [
    "# ======================== insert satu data dan menampilkan hasil insertnya dengan .inserted_id\n",
    "\n",
    "x = colResto.insert_one({\"nama\": \"lili\"})\n",
    "print(list(colResto.find({\"_id\": x.inserted_id})))"
   ]
  },
  {
   "cell_type": "markdown",
   "metadata": {},
   "source": [
    "# READ complex\n",
    "\n",
    "- menampilkan data dengana nama yang ada di dalam list yang sudah kita define"
   ]
  },
  {
   "cell_type": "code",
   "execution_count": 70,
   "metadata": {},
   "outputs": [
    {
     "name": "stdout",
     "output_type": "stream",
     "text": [
      "[{'_id': ObjectId('5ddc8ee8c4c8b9c4e491fedb'), 'nama': 'Andi', 'usia': 19.0, 'kota': 'Jakarta'}, {'_id': ObjectId('5ddc8ee8c4c8b9c4e491fedc'), 'nama': 'Budi', 'usia': 25.0, 'kota': 'Bandung'}]\n"
     ]
    }
   ],
   "source": [
    "# menampilkan data dengana nama yang ada di dalam list yang sudah kita define\n",
    "\n",
    "nama = [\"Andi\", \"Budi\", \"Fafa\"]\n",
    "print(list(colResto.find({'nama': {'$in' : nama}})))"
   ]
  },
  {
   "cell_type": "markdown",
   "metadata": {},
   "source": [
    "# DELETE\n",
    "\n",
    "- delete one\n",
    "- delete many"
   ]
  },
  {
   "cell_type": "code",
   "execution_count": 82,
   "metadata": {
    "collapsed": true
   },
   "outputs": [],
   "source": [
    "def cekColRestoN():# hanya cek banyak data sekarang\n",
    "    myColData = list(colResto.find())\n",
    "    print(\"jumlah data\", len(myColData))"
   ]
  },
  {
   "cell_type": "code",
   "execution_count": 83,
   "metadata": {},
   "outputs": [
    {
     "name": "stdout",
     "output_type": "stream",
     "text": [
      "jumlah data 16\n",
      "jumlah data 15\n"
     ]
    }
   ],
   "source": [
    "cekColRestoN()\n",
    "\n",
    "x = {'nama': 'Zunia'}\n",
    "colResto.delete_one(x)\n",
    "\n",
    "cekColRestoN()"
   ]
  },
  {
   "cell_type": "code",
   "execution_count": 97,
   "metadata": {},
   "outputs": [
    {
     "data": {
      "text/plain": [
       "[]"
      ]
     },
     "execution_count": 97,
     "metadata": {},
     "output_type": "execute_result"
    }
   ],
   "source": [
    "list(colResto.find({'nama':'Yusril'}))"
   ]
  },
  {
   "cell_type": "code",
   "execution_count": 91,
   "metadata": {},
   "outputs": [
    {
     "name": "stdout",
     "output_type": "stream",
     "text": [
      "jumlah data 12\n",
      "jumlah data 8\n"
     ]
    }
   ],
   "source": [
    "# DELETE MANY\n",
    "cekColRestoN()\n",
    "\n",
    "x = {'nama': 'Ahmada'}\n",
    "colResto.delete_many(x)\n",
    "\n",
    "cekColRestoN()"
   ]
  },
  {
   "cell_type": "code",
   "execution_count": 98,
   "metadata": {},
   "outputs": [
    {
     "data": {
      "text/plain": [
       "[{'_id': ObjectId('5ddc964201dfd554d07b0f09'),\n",
       "  'kota': 'Kediri',\n",
       "  'nama': 'Ahmada',\n",
       "  'usia': 21}]"
      ]
     },
     "execution_count": 98,
     "metadata": {},
     "output_type": "execute_result"
    }
   ],
   "source": [
    "list(colResto.find({'nama':'Ahmada'}))"
   ]
  },
  {
   "cell_type": "markdown",
   "metadata": {},
   "source": [
    "# UPDATE\n",
    "\n",
    "- Update one\n",
    "- Update many"
   ]
  },
  {
   "cell_type": "code",
   "execution_count": 95,
   "metadata": {},
   "outputs": [
    {
     "data": {
      "text/plain": [
       "<pymongo.results.UpdateResult at 0x16538c58448>"
      ]
     },
     "execution_count": 95,
     "metadata": {},
     "output_type": "execute_result"
    }
   ],
   "source": [
    "data = {'nama' : 'Yusril'}\n",
    "new = {'nama' : 'Ahmada'}\n",
    "colResto.update_one(data, {'$set' : new})"
   ]
  },
  {
   "cell_type": "code",
   "execution_count": 117,
   "metadata": {},
   "outputs": [
    {
     "data": {
      "text/plain": [
       "<pymongo.results.UpdateResult at 0x16538c60d48>"
      ]
     },
     "execution_count": 117,
     "metadata": {},
     "output_type": "execute_result"
    }
   ],
   "source": [
    "# UPDATE BANYAAAK\n",
    "\n",
    "new = {'nama' : 'YoungMan'}\n",
    "data = {'$and' : [\n",
    "        {'usia' : {'$gt' : 21}},\n",
    "        {'usia' : {'$lt' : 30}}\n",
    "        ]}\n",
    "colResto.update_many(data, {'$set' : new})"
   ]
  },
  {
   "cell_type": "code",
   "execution_count": 118,
   "metadata": {
    "scrolled": true
   },
   "outputs": [
    {
     "name": "stdout",
     "output_type": "stream",
     "text": [
      "[{'_id': ObjectId('5ddc8ee8c4c8b9c4e491fedb'),\n",
      "  'kota': 'Jakarta',\n",
      "  'nama': 'Andi',\n",
      "  'usia': 19.0},\n",
      " {'_id': ObjectId('5ddc8ee8c4c8b9c4e491fedc'),\n",
      "  'kota': 'Bandung',\n",
      "  'nama': 'YoungMan',\n",
      "  'usia': 25.0},\n",
      " {'_id': ObjectId('5ddc8ee8c4c8b9c4e491fedd'),\n",
      "  'kota': 'Bandung',\n",
      "  'nama': 'Caca',\n",
      "  'usia': 31.0},\n",
      " {'_id': ObjectId('5ddc8ee8c4c8b9c4e491fede'),\n",
      "  'kota': 'Surabaya',\n",
      "  'nama': 'Nadia',\n",
      "  'usia': 21.0},\n",
      " {'_id': ObjectId('5ddc964201dfd554d07b0f09'),\n",
      "  'kota': 'Kediri',\n",
      "  'nama': 'Ahmada',\n",
      "  'usia': 21},\n",
      " {'_id': ObjectId('5ddc9a9a01dfd554d07b0f12'), 'nama': 'lala'},\n",
      " {'_id': ObjectId('5ddc9aa001dfd554d07b0f13'), 'nama': 'lala'},\n",
      " {'_id': ObjectId('5ddc9b5001dfd554d07b0f14'), 'nama': 'lili'}]\n"
     ]
    }
   ],
   "source": [
    "# hanya cek\n",
    "myColData = list(colResto.find())\n",
    "pprint(myColData)"
   ]
  },
  {
   "cell_type": "code",
   "execution_count": null,
   "metadata": {
    "collapsed": true
   },
   "outputs": [],
   "source": []
  }
 ],
 "metadata": {
  "kernelspec": {
   "display_name": "Python 3",
   "language": "python",
   "name": "python3"
  },
  "language_info": {
   "codemirror_mode": {
    "name": "ipython",
    "version": 3
   },
   "file_extension": ".py",
   "mimetype": "text/x-python",
   "name": "python",
   "nbconvert_exporter": "python",
   "pygments_lexer": "ipython3",
   "version": "3.6.1"
  }
 },
 "nbformat": 4,
 "nbformat_minor": 2
}
