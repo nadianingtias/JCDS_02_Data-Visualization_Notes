{
 "cells": [
  {
   "cell_type": "code",
   "execution_count": 1,
   "metadata": {},
   "outputs": [],
   "source": [
    "import numpy as np"
   ]
  },
  {
   "cell_type": "code",
   "execution_count": 3,
   "metadata": {},
   "outputs": [
    {
     "name": "stdout",
     "output_type": "stream",
     "text": [
      "34\n",
      "1\n",
      "5\n",
      "0\n"
     ]
    }
   ],
   "source": [
    "x = [1,2,3,4,5,34]\n",
    "y = np.array(x)\n",
    "\n",
    "print(y.max())\n",
    "print(y.min())\n",
    "print(y.argmax())\n",
    "print(y.argmin())"
   ]
  },
  {
   "cell_type": "code",
   "execution_count": 15,
   "metadata": {},
   "outputs": [
    {
     "name": "stdout",
     "output_type": "stream",
     "text": [
      "(2, 4)\n",
      "[1 2 3 4 5 6 7 8]\n",
      "[1 2 3 4 5 6 7 8]\n",
      "[[1 2 3 4]\n",
      " [5 6 7 8]]\n",
      "[[1 2 3 4]\n",
      " [5 6 7 8]]\n",
      "[[1 2]\n",
      " [3 4]\n",
      " [5 6]\n",
      " [7 8]]\n",
      "[[[[1]\n",
      "   [2]\n",
      "   [3]\n",
      "   [4]]]\n",
      "\n",
      "\n",
      " [[[5]\n",
      "   [6]\n",
      "   [7]\n",
      "   [8]]]]\n"
     ]
    }
   ],
   "source": [
    "x = [ [1,2,3,4], [5,6,7,8] ]\n",
    "x = np.array(x)\n",
    "\n",
    "print(x.shape)\n",
    "print(x.reshape(8))\n",
    "print(x.reshape(-1)) # 1 dimensi terserah\n",
    "\n",
    "print(x.reshape(2,4))\n",
    "print(x.reshape(2,-1))\n",
    "print(x.reshape(4,2))\n",
    "print(x.reshape(2, 1, 4,-1))"
   ]
  },
  {
   "cell_type": "code",
   "execution_count": 16,
   "metadata": {},
   "outputs": [
    {
     "name": "stdout",
     "output_type": "stream",
     "text": [
      "[[1 2 3]\n",
      " [4 5 6]]\n"
     ]
    }
   ],
   "source": [
    "a = np.array([[1,2,3],[4,5,6]])\n",
    "b = np.array([[0,0,0], [0,0,0]])\n",
    "\n",
    "print(a+b)\n"
   ]
  },
  {
   "cell_type": "code",
   "execution_count": 20,
   "metadata": {},
   "outputs": [
    {
     "name": "stdout",
     "output_type": "stream",
     "text": [
      "[[ 0.  0.  0.]\n",
      " [ 0.  0.  0.]]\n",
      "[[0 0 0]\n",
      " [0 0 0]]\n"
     ]
    }
   ],
   "source": [
    "# matriks identitas untuk penjumlahan dan pengurangan\n",
    "\n",
    "identitas =np.zeros((2,3))\n",
    "print(identitas)\n",
    "\n",
    "identitas =np.zeros((2,3), dtype = 'int32')\n",
    "print(identitas)\n"
   ]
  },
  {
   "cell_type": "code",
   "execution_count": 24,
   "metadata": {},
   "outputs": [
    {
     "name": "stdout",
     "output_type": "stream",
     "text": [
      "[[ 1.  1.  1.]\n",
      " [ 1.  1.  1.]]\n",
      "[[ 1.  2.  3.]\n",
      " [ 4.  5.  6.]]\n"
     ]
    }
   ],
   "source": [
    "# matriks identitas untuk perkalian dan pembagian\n",
    "\n",
    "ones =  np.ones((2,3))\n",
    "print(ones)\n",
    "\n",
    "print(ones*a)"
   ]
  },
  {
   "cell_type": "code",
   "execution_count": 36,
   "metadata": {
    "collapsed": true,
    "jupyter": {
     "outputs_hidden": true
    }
   },
   "outputs": [
    {
     "name": "stdout",
     "output_type": "stream",
     "text": [
      "[[False False False]\n",
      " [False False False]\n",
      " [False False False]]\n",
      "[[ True  True  True]\n",
      " [ True  True  True]\n",
      " [ True  True  True]]\n",
      "[[ True  True  True]\n",
      " [ True  True  True]\n",
      " [ True  True  True]]\n",
      "[[ True  True  True]\n",
      " [ True  True  True]\n",
      " [ True  True  True]]\n",
      "[[1 2 3]\n",
      " [1 2 3]\n",
      " [1 2 3]]\n"
     ]
    }
   ],
   "source": [
    "\n",
    "x = np.zeros((3,3), dtype=bool)\n",
    "print(x)\n",
    "\n",
    "x = np.ones((3,3), dtype= bool)\n",
    "print(x)\n",
    "\n",
    "x = np.full((3,3), True,dtype=bool)\n",
    "print(x)\n",
    "x = np.full((3,3), 1,dtype=bool)\n",
    "print(x)\n",
    "\n",
    "x = np.full((3,3), [1,2,3])\n",
    "print(x)"
   ]
  },
  {
   "cell_type": "code",
   "execution_count": 41,
   "metadata": {
    "collapsed": true,
    "jupyter": {
     "outputs_hidden": true
    }
   },
   "outputs": [
    {
     "name": "stdout",
     "output_type": "stream",
     "text": [
      "<class 'numpy.ndarray'>\n",
      "[[1, 2, 3], [1, 2, 3], [1, 2, 3]]\n",
      "<class 'list'>\n"
     ]
    }
   ],
   "source": [
    "# Mengubah numpuy array ke dalam list\n",
    "\n",
    "print(type(x))\n",
    "xlist = x.tolist()\n",
    "print(xlist)\n",
    "print(type(xlist))"
   ]
  },
  {
   "cell_type": "code",
   "execution_count": 43,
   "metadata": {},
   "outputs": [
    {
     "name": "stdout",
     "output_type": "stream",
     "text": [
      "[[0, 1, 2], [3, 4, 5]]\n"
     ]
    }
   ],
   "source": [
    "x = [0,1,2]\n",
    "y = [3,4,5]\n",
    "\n",
    "# cara1\n",
    "z = [x,y]\n",
    "print(z)"
   ]
  },
  {
   "cell_type": "code",
   "execution_count": 44,
   "metadata": {},
   "outputs": [
    {
     "name": "stdout",
     "output_type": "stream",
     "text": [
      "[[0, 1, 2], [3, 4, 5]]\n"
     ]
    }
   ],
   "source": [
    "# cara2\n",
    "z = []\n",
    "z.append(x)\n",
    "z.append(y)\n",
    "print(z)"
   ]
  },
  {
   "cell_type": "code",
   "execution_count": 45,
   "metadata": {},
   "outputs": [
    {
     "name": "stdout",
     "output_type": "stream",
     "text": [
      "[[0, 1, 2], [3, 4, 5]]\n"
     ]
    }
   ],
   "source": [
    "# cara3\n",
    "z = []\n",
    "z = np.array(x+y).reshape(2,-1).tolist()\n",
    "print(z)"
   ]
  },
  {
   "cell_type": "code",
   "execution_count": 50,
   "metadata": {},
   "outputs": [
    {
     "name": "stdout",
     "output_type": "stream",
     "text": [
      "[0 1 2 3 4 5]\n",
      "[[0, 1, 2], [3, 4, 5]]\n"
     ]
    }
   ],
   "source": [
    "# cara4\n",
    "z = []\n",
    "xnp = np.array(x)\n",
    "ynp = np.array(y)\n",
    "z = np.concatenate([xnp,ynp], axis=0)\n",
    "print(z)\n",
    "z = np.concatenate([[xnp],[ynp]], axis=0).tolist()\n",
    "print(z)"
   ]
  },
  {
   "cell_type": "code",
   "execution_count": 62,
   "metadata": {},
   "outputs": [
    {
     "name": "stdout",
     "output_type": "stream",
     "text": [
      "[[0 1 2]\n",
      " [3 4 5]]\n",
      "[0 1 2 3 4 5]\n",
      "[[0 1 2]\n",
      " [3 4 5]\n",
      " [0 1 2]\n",
      " [3 4 5]\n",
      " [0 1 2]\n",
      " [3 4 5]]\n"
     ]
    }
   ],
   "source": [
    "# cara6\n",
    "z = []\n",
    "z = np.stack([x,y])\n",
    "print(z)\n",
    "z = np.hstack([x,y])\n",
    "print(z)\n",
    "z = np.vstack([x,y,x,y,x,y])\n",
    "print(z)\n"
   ]
  },
  {
   "cell_type": "code",
   "execution_count": 63,
   "metadata": {},
   "outputs": [
    {
     "name": "stdout",
     "output_type": "stream",
     "text": [
      "[[0 1 2]\n",
      " [3 4 5]]\n"
     ]
    }
   ],
   "source": [
    "# cara7\n",
    "z = []\n",
    "z = np.r_[[x,y]]\n",
    "print(z)"
   ]
  },
  {
   "cell_type": "code",
   "execution_count": 64,
   "metadata": {},
   "outputs": [
    {
     "name": "stdout",
     "output_type": "stream",
     "text": [
      "[[0 1 2]\n",
      " [3 4 5]]\n"
     ]
    }
   ],
   "source": [
    "# cara8\n",
    "z = []\n",
    "z = np.row_stack([x,y])\n",
    "print(z)"
   ]
  },
  {
   "cell_type": "code",
   "execution_count": 96,
   "metadata": {},
   "outputs": [
    {
     "name": "stdout",
     "output_type": "stream",
     "text": [
      "[10 11 12 13 14 15 16 17 18 19]\n",
      "[11 13 15 17 19]\n",
      "[10 12 14 16 18]\n",
      "[10 11 12 13 14 15 16 17 18 19]\n",
      "(array([0, 1, 2, 3, 4, 5], dtype=int64),)\n",
      "[10 11 12 13 14 15]\n",
      "[15 16 17 18 19]\n"
     ]
    },
    {
     "ename": "ValueError",
     "evalue": "The truth value of an array with more than one element is ambiguous. Use a.any() or a.all()",
     "output_type": "error",
     "traceback": [
      "\u001b[1;31m---------------------------------------------------------------------------\u001b[0m",
      "\u001b[1;31mValueError\u001b[0m                                Traceback (most recent call last)",
      "\u001b[1;32m<ipython-input-96-d28702a73cdb>\u001b[0m in \u001b[0;36m<module>\u001b[1;34m()\u001b[0m\n\u001b[0;32m     17\u001b[0m \u001b[1;33m\u001b[0m\u001b[0m\n\u001b[0;32m     18\u001b[0m \u001b[0mprint\u001b[0m\u001b[1;33m(\u001b[0m\u001b[0mz\u001b[0m\u001b[1;33m[\u001b[0m\u001b[0mnp\u001b[0m\u001b[1;33m.\u001b[0m\u001b[0mwhere\u001b[0m\u001b[1;33m(\u001b[0m \u001b[1;33m(\u001b[0m\u001b[0mz\u001b[0m \u001b[1;33m>\u001b[0m\u001b[1;36m14\u001b[0m\u001b[1;33m)\u001b[0m \u001b[1;33m&\u001b[0m \u001b[1;33m(\u001b[0m\u001b[0mz\u001b[0m \u001b[1;33m<\u001b[0m\u001b[1;36m20\u001b[0m\u001b[1;33m)\u001b[0m \u001b[1;33m)\u001b[0m\u001b[1;33m]\u001b[0m\u001b[1;33m)\u001b[0m\u001b[1;33m\u001b[0m\u001b[0m\n\u001b[1;32m---> 19\u001b[1;33m \u001b[0mprint\u001b[0m\u001b[1;33m(\u001b[0m\u001b[0mz\u001b[0m\u001b[1;33m[\u001b[0m\u001b[0mnp\u001b[0m\u001b[1;33m.\u001b[0m\u001b[0mwhere\u001b[0m\u001b[1;33m(\u001b[0m \u001b[1;33m(\u001b[0m\u001b[1;36m20\u001b[0m \u001b[1;33m>\u001b[0m \u001b[0mz\u001b[0m \u001b[1;33m>\u001b[0m \u001b[1;36m14\u001b[0m\u001b[1;33m)\u001b[0m \u001b[1;33m)\u001b[0m\u001b[1;33m]\u001b[0m\u001b[1;33m)\u001b[0m\u001b[1;33m\u001b[0m\u001b[0m\n\u001b[0m",
      "\u001b[1;31mValueError\u001b[0m: The truth value of an array with more than one element is ambiguous. Use a.any() or a.all()"
     ]
    }
   ],
   "source": [
    "z = np.arange(10,20)\n",
    "print(z)\n",
    "print(z[1::2])\n",
    "print(z[z % 2 == 0 ])\n",
    "\n",
    "#selecting by spme condition & assignment\n",
    "# z[z % 2 != 0 ] = 0\n",
    "print(z)\n",
    "\n",
    "np.where(z % 2 != 0, 2, z)\n",
    "\n",
    "\n",
    "# mendapatkan indexnya\n",
    "print(np.where(z<16))\n",
    "# mendapatkan valuenya,, jadi indexnya di taruh di dalamnya\n",
    "print(z[np.where(z<16)])\n",
    "\n",
    "print(z[np.where( (z >14) & (z <20) )])\n",
    "print(z[np.where( (20 > z > 14) )])"
   ]
  }
 ],
 "metadata": {
  "kernelspec": {
   "display_name": "Python 3",
   "language": "python",
   "name": "python3"
  },
  "language_info": {
   "codemirror_mode": {
    "name": "ipython",
    "version": 3
   },
   "file_extension": ".py",
   "mimetype": "text/x-python",
   "name": "python",
   "nbconvert_exporter": "python",
   "pygments_lexer": "ipython3",
   "version": "3.6.1"
  }
 },
 "nbformat": 4,
 "nbformat_minor": 4
}
