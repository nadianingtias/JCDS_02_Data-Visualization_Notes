{
 "cells": [
  {
   "cell_type": "code",
   "execution_count": 1,
   "metadata": {},
   "outputs": [],
   "source": [
    "import numpy as np"
   ]
  },
  {
   "cell_type": "code",
   "execution_count": 9,
   "metadata": {},
   "outputs": [
    {
     "name": "stdout",
     "output_type": "stream",
     "text": [
      "[0 1 2 3]\n",
      "int32\n",
      "4\n",
      "1\n",
      "4\n",
      "(4,)\n"
     ]
    }
   ],
   "source": [
    "x = np.array(range(4))\n",
    "print(x)\n",
    "print(x.dtype)\n",
    "print(x.size) # banyak item\n",
    "print(x.ndim) # dimensi\n",
    "print(x.itemsize)\n",
    "print(x.shape)"
   ]
  },
  {
   "cell_type": "code",
   "execution_count": 24,
   "metadata": {},
   "outputs": [
    {
     "name": "stdout",
     "output_type": "stream",
     "text": [
      "2\n",
      "(2, 3)\n",
      "6\n",
      "4\n"
     ]
    }
   ],
   "source": [
    "a =  np.array([[1,2,3],\n",
    "               [1,2,3]])\n",
    "print(a.ndim)       # dimensi suatu matrix\n",
    "print(a.shape)      # ukuran matrix misal (2x3)\n",
    "print(a.size)       # banyaknya item dalam matrix dengan ukuran homogen penuh (tidak bolong)\n",
    "print(x.itemsize)   # belum tahu"
   ]
  },
  {
   "cell_type": "markdown",
   "metadata": {},
   "source": [
    "## arange di Numpy sama seperti range() di python"
   ]
  },
  {
   "cell_type": "code",
   "execution_count": 30,
   "metadata": {},
   "outputs": [
    {
     "name": "stdout",
     "output_type": "stream",
     "text": [
      "[1 3 5 7 9]\n",
      "[1, 3, 5, 7, 9]\n",
      "<class 'numpy.ndarray'>\n",
      "<class 'list'>\n"
     ]
    }
   ],
   "source": [
    "print(np.arange(1,10,2))  # arange fungsinya sama seperti range di python\n",
    "print(list(range(1,10,2)))\n",
    "\n",
    "print(type(np.arange(1,10,2)))  # arange fungsinya sama seperti range di python\n",
    "print(type(list(range(1,10,2))))"
   ]
  },
  {
   "cell_type": "markdown",
   "metadata": {},
   "source": [
    "## Numpy Random"
   ]
  },
  {
   "cell_type": "code",
   "execution_count": 53,
   "metadata": {},
   "outputs": [
    {
     "name": "stdout",
     "output_type": "stream",
     "text": [
      "[ 0.63736964  0.08442043  0.6655813   0.07446925  0.05084458  0.20198844\n",
      "  0.27418267  0.46852926  0.6584325   0.24043599]\n"
     ]
    }
   ],
   "source": [
    "print(np.random.random(10))   # menghasilkan angka random sebanyak 10 items (antara 0 - 1)"
   ]
  },
  {
   "cell_type": "code",
   "execution_count": 57,
   "metadata": {},
   "outputs": [
    {
     "name": "stdout",
     "output_type": "stream",
     "text": [
      "[[ 0.46334839  0.8654293   0.52828358  0.92481387]\n",
      " [ 0.98160764  0.47496007  0.01170954  0.23479469]]\n"
     ]
    }
   ],
   "source": [
    "print(np.random.rand(2,4)) # dengan menggunakan rand() kita bisa mendapatkan sejumlah matriks sesuai dengan ukuran yang kita param"
   ]
  },
  {
   "cell_type": "code",
   "execution_count": 47,
   "metadata": {},
   "outputs": [
    {
     "name": "stdout",
     "output_type": "stream",
     "text": [
      "[4 5 1 3 2 4 6 5 2 0]\n"
     ]
    }
   ],
   "source": [
    "print(np.random.randint(7, size=10))      # randint() - menghasilkan angka integer, param 1 berupa batasan, size = jumlah "
   ]
  },
  {
   "cell_type": "code",
   "execution_count": 51,
   "metadata": {},
   "outputs": [
    {
     "name": "stdout",
     "output_type": "stream",
     "text": [
      "[[5 6]\n",
      " [4 6]\n",
      " [6 2]]\n"
     ]
    }
   ],
   "source": [
    "print(np.random.randint(7, size=(3,2))) # size = (baris, kolom)"
   ]
  },
  {
   "cell_type": "code",
   "execution_count": 69,
   "metadata": {},
   "outputs": [
    {
     "name": "stdout",
     "output_type": "stream",
     "text": [
      "[  1.    5.5  10. ]\n"
     ]
    }
   ],
   "source": [
    "print(np.linspace(1,10,3))    # selisih tiap array sama"
   ]
  },
  {
   "cell_type": "code",
   "execution_count": 75,
   "metadata": {},
   "outputs": [],
   "source": [
    "a = [(1,2,3), (4,5,6), (7,8,9), (10,11,12)]\n",
    "a = np.array(a)"
   ]
  },
  {
   "cell_type": "code",
   "execution_count": 96,
   "metadata": {},
   "outputs": [
    {
     "name": "stdout",
     "output_type": "stream",
     "text": [
      "3\n",
      "[[ 1  2]\n",
      " [ 4  5]\n",
      " [ 7  8]\n",
      " [10 11]]\n",
      "[[ 1]\n",
      " [ 4]\n",
      " [ 7]\n",
      " [10]]\n",
      "[ 2  5  8 11]\n",
      "------------------\n",
      "[[ 1  2  3]\n",
      " [10 11 12]]\n"
     ]
    }
   ],
   "source": [
    "print(a[0,2])\n",
    "print(a[ 0: , 0:2 ]) # selecting baris x hingga y menggunakan 'x:y'\n",
    "print(a[ 0: , :1 ])\n",
    "print(a[ 0: , 1 ])\n",
    "print(\"------------------\")\n",
    "print(a[ [0,3] , 0: ]) # selecting bari x, baris y, baris z, gunakan index dalam '[x,y,z]'"
   ]
  },
  {
   "cell_type": "markdown",
   "metadata": {},
   "source": [
    "## Operasi Matriks"
   ]
  },
  {
   "cell_type": "code",
   "execution_count": 99,
   "metadata": {},
   "outputs": [
    {
     "name": "stdout",
     "output_type": "stream",
     "text": [
      "[[ 2 -3]\n",
      " [ 2 11]]\n",
      "[[ -2 -11]\n",
      " [ -4  -5]]\n",
      "[[ 2 -5]\n",
      " [ 1  5]]\n"
     ]
    }
   ],
   "source": [
    "a = np.array([\n",
    "    [0,-7],\n",
    "    [-1,3]\n",
    "])\n",
    "b = np.array([\n",
    "    [2,4],\n",
    "    [3,8]\n",
    "])\n",
    "\n",
    "print(a+b)\n",
    "print(a-b)\n",
    "print(a+2) # setiap elemen a ditambah 2"
   ]
  },
  {
   "cell_type": "markdown",
   "metadata": {},
   "source": [
    "## LINEAR ALGEBRA"
   ]
  },
  {
   "cell_type": "code",
   "execution_count": 106,
   "metadata": {},
   "outputs": [
    {
     "name": "stdout",
     "output_type": "stream",
     "text": [
      "[-2.  9.]\n"
     ]
    }
   ],
   "source": [
    "# 2x + y = 5\n",
    "# x + y = 7\n",
    "# SPLDV menggunakan numpy\n",
    "# |2 1| |x| =  |5|\n",
    "# |1 1| |y|    |7|\n",
    "\n",
    "mat = np.array([[2,1], [1,1]])\n",
    "hasMat = np.array([5,7])\n",
    "\n",
    "hasil = np.linalg.solve(mat,hasMat)\n",
    "print(hasil)"
   ]
  },
  {
   "cell_type": "code",
   "execution_count": 109,
   "metadata": {},
   "outputs": [
    {
     "name": "stdout",
     "output_type": "stream",
     "text": [
      "[ 1400.  1000.   900.]\n"
     ]
    }
   ],
   "source": [
    "# hasil = np.linalg.solve(np.array([3]), np.array([6]))\n",
    "\n",
    "mat = np.array([[2,1,1], [1, 2, 1], [3, 2, 1]])\n",
    "hasMat = np.array([4700, 4300, 7100])\n",
    "\n",
    "hasil = np.linalg.solve(mat, hasMat)\n",
    "print(hasil)"
   ]
  },
  {
   "cell_type": "code",
   "execution_count": 138,
   "metadata": {},
   "outputs": [
    {
     "name": "stdout",
     "output_type": "stream",
     "text": [
      "[1 4 3 5 2]\n",
      "[1 2 3 4 5]\n",
      "max :  5\n",
      "min :  1\n",
      "sum :  15\n"
     ]
    }
   ],
   "source": [
    "#   def maks()\n",
    "x = [1,4,3,5,2]\n",
    "y =  np.array(x)\n",
    "print(y)\n",
    "\n",
    "from functools import reduce\n",
    "print(np.sort(y))\n",
    "z = np.sort(y)\n",
    "print(\"max : \", z[-1])\n",
    "print(\"min : \", z[0])\n",
    "print(\"sum : \", reduce(lambda a,b : (a + b), z))"
   ]
  }
 ],
 "metadata": {
  "kernelspec": {
   "display_name": "Python 3",
   "language": "python",
   "name": "python3"
  },
  "language_info": {
   "codemirror_mode": {
    "name": "ipython",
    "version": 3
   },
   "file_extension": ".py",
   "mimetype": "text/x-python",
   "name": "python",
   "nbconvert_exporter": "python",
   "pygments_lexer": "ipython3",
   "version": "3.6.1"
  }
 },
 "nbformat": 4,
 "nbformat_minor": 4
}
