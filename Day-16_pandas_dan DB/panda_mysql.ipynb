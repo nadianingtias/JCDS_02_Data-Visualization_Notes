{
 "cells": [
  {
   "cell_type": "code",
   "execution_count": 1,
   "metadata": {},
   "outputs": [],
   "source": [
    "import pandas as pd"
   ]
  },
  {
   "cell_type": "code",
   "execution_count": 11,
   "metadata": {},
   "outputs": [],
   "source": [
    "import mysql.connector"
   ]
  },
  {
   "cell_type": "code",
   "execution_count": 18,
   "metadata": {},
   "outputs": [],
   "source": [
    "import sqlalchemy as sqlal"
   ]
  },
  {
   "cell_type": "code",
   "execution_count": 17,
   "metadata": {},
   "outputs": [
    {
     "data": {
      "text/html": [
       "<div>\n",
       "<style>\n",
       "    .dataframe thead tr:only-child th {\n",
       "        text-align: right;\n",
       "    }\n",
       "\n",
       "    .dataframe thead th {\n",
       "        text-align: left;\n",
       "    }\n",
       "\n",
       "    .dataframe tbody tr th {\n",
       "        vertical-align: top;\n",
       "    }\n",
       "</style>\n",
       "<table border=\"1\" class=\"dataframe\">\n",
       "  <thead>\n",
       "    <tr style=\"text-align: right;\">\n",
       "      <th></th>\n",
       "      <th>id</th>\n",
       "      <th>nama</th>\n",
       "      <th>email</th>\n",
       "      <th>waktu</th>\n",
       "    </tr>\n",
       "  </thead>\n",
       "  <tbody>\n",
       "    <tr>\n",
       "      <th>0</th>\n",
       "      <td>1</td>\n",
       "      <td>nadia</td>\n",
       "      <td>nadia.ningtias20@Gmail.com</td>\n",
       "      <td>2019-12-09 09:28:25</td>\n",
       "    </tr>\n",
       "    <tr>\n",
       "      <th>1</th>\n",
       "      <td>2</td>\n",
       "      <td>ningtias</td>\n",
       "      <td>ningtias20@Gmail.com</td>\n",
       "      <td>2019-12-09 09:28:45</td>\n",
       "    </tr>\n",
       "    <tr>\n",
       "      <th>2</th>\n",
       "      <td>3</td>\n",
       "      <td>maya</td>\n",
       "      <td>maya@gmail.com</td>\n",
       "      <td>2019-12-09 09:29:11</td>\n",
       "    </tr>\n",
       "    <tr>\n",
       "      <th>3</th>\n",
       "      <td>4</td>\n",
       "      <td>jokowi</td>\n",
       "      <td>jokowi@gmail.com</td>\n",
       "      <td>2019-12-09 09:29:35</td>\n",
       "    </tr>\n",
       "  </tbody>\n",
       "</table>\n",
       "</div>"
      ],
      "text/plain": [
       "   id      nama                       email               waktu\n",
       "0   1     nadia  nadia.ningtias20@Gmail.com 2019-12-09 09:28:25\n",
       "1   2  ningtias        ningtias20@Gmail.com 2019-12-09 09:28:45\n",
       "2   3      maya              maya@gmail.com 2019-12-09 09:29:11\n",
       "3   4    jokowi            jokowi@gmail.com 2019-12-09 09:29:35"
      ]
     },
     "execution_count": 17,
     "metadata": {},
     "output_type": "execute_result"
    }
   ],
   "source": [
    "# connect mysql dengan URL\n",
    "\n",
    "alamatDB = \"mysql://root:@localhost:3306/test\"\n",
    "q = \"select * from employees\"\n",
    "df  = pd.read_sql(q, alamatDB)\n",
    "df"
   ]
  },
  {
   "cell_type": "code",
   "execution_count": 9,
   "metadata": {},
   "outputs": [
    {
     "data": {
      "text/html": [
       "<div>\n",
       "<style>\n",
       "    .dataframe thead tr:only-child th {\n",
       "        text-align: right;\n",
       "    }\n",
       "\n",
       "    .dataframe thead th {\n",
       "        text-align: left;\n",
       "    }\n",
       "\n",
       "    .dataframe tbody tr th {\n",
       "        vertical-align: top;\n",
       "    }\n",
       "</style>\n",
       "<table border=\"1\" class=\"dataframe\">\n",
       "  <thead>\n",
       "    <tr style=\"text-align: right;\">\n",
       "      <th></th>\n",
       "      <th>id</th>\n",
       "      <th>nama</th>\n",
       "      <th>email</th>\n",
       "      <th>waktu</th>\n",
       "    </tr>\n",
       "  </thead>\n",
       "  <tbody>\n",
       "    <tr>\n",
       "      <th>0</th>\n",
       "      <td>1</td>\n",
       "      <td>nadia</td>\n",
       "      <td>nadia.ningtias20@Gmail.com</td>\n",
       "      <td>2019-12-09 09:28:25</td>\n",
       "    </tr>\n",
       "    <tr>\n",
       "      <th>1</th>\n",
       "      <td>2</td>\n",
       "      <td>ningtias</td>\n",
       "      <td>ningtias20@Gmail.com</td>\n",
       "      <td>2019-12-09 09:28:45</td>\n",
       "    </tr>\n",
       "    <tr>\n",
       "      <th>2</th>\n",
       "      <td>3</td>\n",
       "      <td>maya</td>\n",
       "      <td>maya@gmail.com</td>\n",
       "      <td>2019-12-09 09:29:11</td>\n",
       "    </tr>\n",
       "    <tr>\n",
       "      <th>3</th>\n",
       "      <td>4</td>\n",
       "      <td>jokowi</td>\n",
       "      <td>jokowi@gmail.com</td>\n",
       "      <td>2019-12-09 09:29:35</td>\n",
       "    </tr>\n",
       "  </tbody>\n",
       "</table>\n",
       "</div>"
      ],
      "text/plain": [
       "   id      nama                       email               waktu\n",
       "0   1     nadia  nadia.ningtias20@Gmail.com 2019-12-09 09:28:25\n",
       "1   2  ningtias        ningtias20@Gmail.com 2019-12-09 09:28:45\n",
       "2   3      maya              maya@gmail.com 2019-12-09 09:29:11\n",
       "3   4    jokowi            jokowi@gmail.com 2019-12-09 09:29:35"
      ]
     },
     "execution_count": 9,
     "metadata": {},
     "output_type": "execute_result"
    }
   ],
   "source": [
    "# connect mysql dengan param\n",
    "\n",
    "mydb = mysql.connector.connect(\n",
    "    host = \"localhost\",\n",
    "    user = \"root\",\n",
    "    passwd = \"\",\n",
    "    database = \"test\"\n",
    ")\n",
    "\n",
    "q = \"select * from employees\"\n",
    "df = pd.read_sql(q, mydb)\n",
    "df"
   ]
  },
  {
   "cell_type": "code",
   "execution_count": 10,
   "metadata": {},
   "outputs": [
    {
     "data": {
      "text/plain": [
       "id                int64\n",
       "nama             object\n",
       "email            object\n",
       "waktu    datetime64[ns]\n",
       "dtype: object"
      ]
     },
     "execution_count": 10,
     "metadata": {},
     "output_type": "execute_result"
    }
   ],
   "source": [
    "df.dtypes"
   ]
  },
  {
   "cell_type": "code",
   "execution_count": 42,
   "metadata": {},
   "outputs": [
    {
     "data": {
      "text/html": [
       "<div>\n",
       "<style>\n",
       "    .dataframe thead tr:only-child th {\n",
       "        text-align: right;\n",
       "    }\n",
       "\n",
       "    .dataframe thead th {\n",
       "        text-align: left;\n",
       "    }\n",
       "\n",
       "    .dataframe tbody tr th {\n",
       "        vertical-align: top;\n",
       "    }\n",
       "</style>\n",
       "<table border=\"1\" class=\"dataframe\">\n",
       "  <thead>\n",
       "    <tr style=\"text-align: right;\">\n",
       "      <th></th>\n",
       "      <th>id</th>\n",
       "      <th>nama</th>\n",
       "      <th>email</th>\n",
       "      <th>waktu</th>\n",
       "    </tr>\n",
       "  </thead>\n",
       "  <tbody>\n",
       "    <tr>\n",
       "      <th>0</th>\n",
       "      <td>1</td>\n",
       "      <td>nadia</td>\n",
       "      <td>nadia.ningtias20@Gmail.com</td>\n",
       "      <td>2019-12-09 09:28:25</td>\n",
       "    </tr>\n",
       "    <tr>\n",
       "      <th>1</th>\n",
       "      <td>2</td>\n",
       "      <td>ningtias</td>\n",
       "      <td>ningtias20@Gmail.com</td>\n",
       "      <td>2019-12-09 09:28:45</td>\n",
       "    </tr>\n",
       "    <tr>\n",
       "      <th>2</th>\n",
       "      <td>3</td>\n",
       "      <td>maya</td>\n",
       "      <td>maya@gmail.com</td>\n",
       "      <td>2019-12-09 09:29:11</td>\n",
       "    </tr>\n",
       "    <tr>\n",
       "      <th>3</th>\n",
       "      <td>4</td>\n",
       "      <td>jokowi</td>\n",
       "      <td>jokowi@gmail.com</td>\n",
       "      <td>2019-12-09 09:29:35</td>\n",
       "    </tr>\n",
       "  </tbody>\n",
       "</table>\n",
       "</div>"
      ],
      "text/plain": [
       "   id      nama                       email               waktu\n",
       "0   1     nadia  nadia.ningtias20@Gmail.com 2019-12-09 09:28:25\n",
       "1   2  ningtias        ningtias20@Gmail.com 2019-12-09 09:28:45\n",
       "2   3      maya              maya@gmail.com 2019-12-09 09:29:11\n",
       "3   4    jokowi            jokowi@gmail.com 2019-12-09 09:29:35"
      ]
     },
     "execution_count": 42,
     "metadata": {},
     "output_type": "execute_result"
    }
   ],
   "source": [
    "engine = sqlal.create_engine(\n",
    "    alamatDB\n",
    ")\n",
    "q = \"select * from employees\"\n",
    "df = pd.read_sql(q, engine)\n",
    "df"
   ]
  },
  {
   "cell_type": "code",
   "execution_count": 24,
   "metadata": {},
   "outputs": [
    {
     "data": {
      "text/html": [
       "<div>\n",
       "<style>\n",
       "    .dataframe thead tr:only-child th {\n",
       "        text-align: right;\n",
       "    }\n",
       "\n",
       "    .dataframe thead th {\n",
       "        text-align: left;\n",
       "    }\n",
       "\n",
       "    .dataframe tbody tr th {\n",
       "        vertical-align: top;\n",
       "    }\n",
       "</style>\n",
       "<table border=\"1\" class=\"dataframe\">\n",
       "  <thead>\n",
       "    <tr style=\"text-align: right;\">\n",
       "      <th></th>\n",
       "      <th>email</th>\n",
       "    </tr>\n",
       "  </thead>\n",
       "  <tbody>\n",
       "    <tr>\n",
       "      <th>0</th>\n",
       "      <td>jokowi@gmail.com</td>\n",
       "    </tr>\n",
       "    <tr>\n",
       "      <th>1</th>\n",
       "      <td>maya@gmail.com</td>\n",
       "    </tr>\n",
       "    <tr>\n",
       "      <th>2</th>\n",
       "      <td>nadia.ningtias20@Gmail.com</td>\n",
       "    </tr>\n",
       "    <tr>\n",
       "      <th>3</th>\n",
       "      <td>ningtias20@Gmail.com</td>\n",
       "    </tr>\n",
       "  </tbody>\n",
       "</table>\n",
       "</div>"
      ],
      "text/plain": [
       "                        email\n",
       "0            jokowi@gmail.com\n",
       "1              maya@gmail.com\n",
       "2  nadia.ningtias20@Gmail.com\n",
       "3        ningtias20@Gmail.com"
      ]
     },
     "execution_count": 24,
     "metadata": {},
     "output_type": "execute_result"
    }
   ],
   "source": [
    "df1 = pd.read_sql('employees', engine, columns=['email'])\n",
    "df1"
   ]
  },
  {
   "cell_type": "code",
   "execution_count": 44,
   "metadata": {},
   "outputs": [],
   "source": [
    "# CREATE - insert dataframe into table\n",
    "\n",
    "df.to_sql(\n",
    "    name = 'daftarkaryawan3', # harus lowercase \n",
    "    con = engine,\n",
    "    if_exists = 'replace' # bisa 'fail', 'replace', 'append'\n",
    ")"
   ]
  },
  {
   "cell_type": "code",
   "execution_count": 45,
   "metadata": {},
   "outputs": [
    {
     "data": {
      "text/html": [
       "<div>\n",
       "<style>\n",
       "    .dataframe thead tr:only-child th {\n",
       "        text-align: right;\n",
       "    }\n",
       "\n",
       "    .dataframe thead th {\n",
       "        text-align: left;\n",
       "    }\n",
       "\n",
       "    .dataframe tbody tr th {\n",
       "        vertical-align: top;\n",
       "    }\n",
       "</style>\n",
       "<table border=\"1\" class=\"dataframe\">\n",
       "  <thead>\n",
       "    <tr style=\"text-align: right;\">\n",
       "      <th></th>\n",
       "      <th>index</th>\n",
       "      <th>id</th>\n",
       "      <th>nama</th>\n",
       "      <th>email</th>\n",
       "      <th>waktu</th>\n",
       "    </tr>\n",
       "  </thead>\n",
       "  <tbody>\n",
       "    <tr>\n",
       "      <th>0</th>\n",
       "      <td>0</td>\n",
       "      <td>1</td>\n",
       "      <td>nadia</td>\n",
       "      <td>nadia.ningtias20@Gmail.com</td>\n",
       "      <td>2019-12-09 09:28:25</td>\n",
       "    </tr>\n",
       "    <tr>\n",
       "      <th>1</th>\n",
       "      <td>1</td>\n",
       "      <td>2</td>\n",
       "      <td>ningtias</td>\n",
       "      <td>ningtias20@Gmail.com</td>\n",
       "      <td>2019-12-09 09:28:45</td>\n",
       "    </tr>\n",
       "    <tr>\n",
       "      <th>2</th>\n",
       "      <td>2</td>\n",
       "      <td>3</td>\n",
       "      <td>maya</td>\n",
       "      <td>maya@gmail.com</td>\n",
       "      <td>2019-12-09 09:29:11</td>\n",
       "    </tr>\n",
       "    <tr>\n",
       "      <th>3</th>\n",
       "      <td>3</td>\n",
       "      <td>4</td>\n",
       "      <td>jokowi</td>\n",
       "      <td>jokowi@gmail.com</td>\n",
       "      <td>2019-12-09 09:29:35</td>\n",
       "    </tr>\n",
       "  </tbody>\n",
       "</table>\n",
       "</div>"
      ],
      "text/plain": [
       "   index  id      nama                       email               waktu\n",
       "0      0   1     nadia  nadia.ningtias20@Gmail.com 2019-12-09 09:28:25\n",
       "1      1   2  ningtias        ningtias20@Gmail.com 2019-12-09 09:28:45\n",
       "2      2   3      maya              maya@gmail.com 2019-12-09 09:29:11\n",
       "3      3   4    jokowi            jokowi@gmail.com 2019-12-09 09:29:35"
      ]
     },
     "execution_count": 45,
     "metadata": {},
     "output_type": "execute_result"
    }
   ],
   "source": [
    "engine = sqlal.create_engine(\n",
    "    alamatDB\n",
    ")\n",
    "q = \"select * from daftarkaryawan3\"\n",
    "df = pd.read_sql(q, engine)\n",
    "df"
   ]
  },
  {
   "cell_type": "code",
   "execution_count": 53,
   "metadata": {},
   "outputs": [],
   "source": [
    "newData=pd.DataFrame([\n",
    "    {\n",
    "        'id' : 5, 'nama' : 'Saddil',\n",
    "        'email' : 'saddil@gmail.com',\n",
    "        'waktu' : '2019-12-10 10:22:31'\n",
    "    }\n",
    "])"
   ]
  },
  {
   "cell_type": "code",
   "execution_count": 57,
   "metadata": {},
   "outputs": [
    {
     "data": {
      "text/plain": [
       "email            object\n",
       "id                int64\n",
       "index           float64\n",
       "nama             object\n",
       "waktu    datetime64[ns]\n",
       "dtype: object"
      ]
     },
     "execution_count": 57,
     "metadata": {},
     "output_type": "execute_result"
    }
   ],
   "source": [
    "\n",
    "# newData['waktu'] = newData['waktu'].astype('datetime64')\n",
    "newData.dtypes\n",
    "\n",
    "df2 = pd.concat([df, newData], ignore_index=True)\n",
    "df2\n",
    "df2.dtypes"
   ]
  }
 ],
 "metadata": {
  "kernelspec": {
   "display_name": "Python 3",
   "language": "python",
   "name": "python3"
  },
  "language_info": {
   "codemirror_mode": {
    "name": "ipython",
    "version": 3
   },
   "file_extension": ".py",
   "mimetype": "text/x-python",
   "name": "python",
   "nbconvert_exporter": "python",
   "pygments_lexer": "ipython3",
   "version": "3.6.1"
  }
 },
 "nbformat": 4,
 "nbformat_minor": 4
}
