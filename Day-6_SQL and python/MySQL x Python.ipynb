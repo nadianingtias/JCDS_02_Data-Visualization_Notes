{
 "cells": [
  {
   "cell_type": "code",
   "execution_count": null,
   "metadata": {
    "collapsed": true
   },
   "outputs": [],
   "source": [
    "# !pip install MySQL-connector-python"
   ]
  },
  {
   "cell_type": "markdown",
   "metadata": {},
   "source": [
    "# CRUD python x MySQL"
   ]
  },
  {
   "cell_type": "code",
   "execution_count": 6,
   "metadata": {
    "collapsed": true,
    "scrolled": true
   },
   "outputs": [],
   "source": [
    "import mysql.connector\n"
   ]
  },
  {
   "cell_type": "code",
   "execution_count": 20,
   "metadata": {},
   "outputs": [
    {
     "name": "stdout",
     "output_type": "stream",
     "text": [
      "<mysql.connector.connection_cext.CMySQLConnection object at 0x0000017284EDABA8>\n",
      "[('dbprojeknfc',), ('demo_e_sdm_dishub',), ('dishub_bus_sekolah',), ('dishub_e_inventory',), ('e_sdm_dishub',), ('eworddb',), ('information_schema',), ('myshop',), ('mysql',), ('nfc',), ('performance_schema',), ('phpmyadmin',), ('test',), ('tokoonlineku',)]\n"
     ]
    }
   ],
   "source": [
    "db = mysql.connector.connect(\n",
    "    host = \"localhost\",\n",
    "    port = 3306,\n",
    "    user = 'root',\n",
    "    passwd = '',\n",
    ")\n",
    "\n",
    "print(db)\n",
    "kursor = db.cursor()\n",
    "kursor.execute('show databases')\n",
    "print(kursor.fetchall())"
   ]
  },
  {
   "cell_type": "code",
   "execution_count": 42,
   "metadata": {},
   "outputs": [
    {
     "name": "stdout",
     "output_type": "stream",
     "text": [
      "<mysql.connector.connection_cext.CMySQLConnection object at 0x0000017284F81BE0>\n",
      "<class 'list'>\n",
      "('ani',)\n",
      "('Anna',)\n",
      "('Kristoff',)\n",
      "('olaf',)\n"
     ]
    }
   ],
   "source": [
    "db2 = mysql.connector.connect(\n",
    "    host = \"localhost\",\n",
    "    port = 3306,\n",
    "    user = 'nadian',\n",
    "    passwd = 'nadian',\n",
    "    database = 'myshop'\n",
    ")\n",
    "\n",
    "print(db2)\n",
    "\n",
    "c =  db2.cursor()\n",
    "c.execute('select * from karyawan')\n",
    "x =  c.fetchall()\n",
    "print(type(x))\n",
    "for data in x:\n",
    "    print(data)\n",
    "#     print(type(data))\n",
    "    \n"
   ]
  },
  {
   "cell_type": "code",
   "execution_count": 50,
   "metadata": {
    "collapsed": true
   },
   "outputs": [],
   "source": [
    "def selectAll():\n",
    "    c.execute('select * from karyawan')\n",
    "    x =  c.fetchall()\n",
    "    print(type(x))\n",
    "    for data in x:\n",
    "        print(data)\n",
    "    #     print(type(data))"
   ]
  },
  {
   "cell_type": "markdown",
   "metadata": {},
   "source": [
    "# INSERT - mysql"
   ]
  },
  {
   "cell_type": "code",
   "execution_count": 47,
   "metadata": {},
   "outputs": [
    {
     "name": "stdout",
     "output_type": "stream",
     "text": [
      "1 data tersimpan\n"
     ]
    }
   ],
   "source": [
    "\n",
    "q = \"insert into karyawan (nama, gaji) values (%s, %s)\"\n",
    "val = (\"Nadia Ningtias\", 15000000)\n",
    "c.execute(q, val)\n",
    "db2.commit()\n",
    "print(c.rowcount, \"data tersimpan\")\n"
   ]
  },
  {
   "cell_type": "code",
   "execution_count": 51,
   "metadata": {},
   "outputs": [
    {
     "name": "stdout",
     "output_type": "stream",
     "text": [
      "2 data tersimpan\n",
      "<class 'list'>\n",
      "(1, 'ani', None, 5000000, {'wanita'}, datetime.datetime(2019, 11, 21, 9, 34, 51))\n",
      "(2, 'Anna', None, 5000000, {'wanita'}, datetime.datetime(2019, 11, 21, 9, 39, 34))\n",
      "(3, 'Kristoff', None, 5000000, {'pria'}, datetime.datetime(2019, 11, 21, 9, 36, 56))\n",
      "(4, 'olaf', None, 7000000, {'pria', 'wanita'}, datetime.datetime(2019, 11, 21, 9, 37, 38))\n",
      "(9, 'Nadia', None, 15000000, None, datetime.datetime(2019, 11, 21, 11, 57, 23))\n",
      "(10, 'Nadia Ningtias', None, 15000000, None, datetime.datetime(2019, 11, 21, 11, 58))\n",
      "(11, 'Nadia Ningtias', None, 15000000, None, datetime.datetime(2019, 11, 21, 11, 59, 58))\n",
      "(12, 'Nadia Ningtias', None, 15000000, None, datetime.datetime(2019, 11, 21, 12, 0))\n",
      "(13, 'Maya', None, 20000000, None, datetime.datetime(2019, 11, 21, 12, 0))\n",
      "(14, 'Nadia Ningtias', None, 15000000, None, datetime.datetime(2019, 11, 21, 12, 1, 3))\n",
      "(15, 'Maya', None, 20000000, None, datetime.datetime(2019, 11, 21, 12, 1, 3))\n"
     ]
    }
   ],
   "source": [
    "q = \"insert into karyawan (nama, gaji) values (%s, %s)\"\n",
    "val = [(\"Nadia Ningtias\", 15000000), (\"Maya\", 20000000)]\n",
    "c.executemany(q, val)\n",
    "db2.commit()\n",
    "print(c.rowcount, \"data tersimpan\")\n",
    "selectAll()"
   ]
  },
  {
   "cell_type": "markdown",
   "metadata": {},
   "source": [
    "TUGAS : scrapping web digimon masukin ke dalam Database"
   ]
  },
  {
   "cell_type": "code",
   "execution_count": null,
   "metadata": {
    "collapsed": true
   },
   "outputs": [],
   "source": []
  }
 ],
 "metadata": {
  "kernelspec": {
   "display_name": "Python 3",
   "language": "python",
   "name": "python3"
  },
  "language_info": {
   "codemirror_mode": {
    "name": "ipython",
    "version": 3
   },
   "file_extension": ".py",
   "mimetype": "text/x-python",
   "name": "python",
   "nbconvert_exporter": "python",
   "pygments_lexer": "ipython3",
   "version": "3.6.1"
  }
 },
 "nbformat": 4,
 "nbformat_minor": 2
}
