{
 "cells": [
  {
   "cell_type": "markdown",
   "metadata": {},
   "source": [
    "# REST API Consumption\n",
    "#### http protocol\n",
    "#### get - mengambil data\n",
    "#### post - mengirim data\n",
    "####  "
   ]
  },
  {
   "cell_type": "code",
   "execution_count": 1,
   "metadata": {
    "collapsed": true
   },
   "outputs": [],
   "source": [
    "# package untuk akses API REST\n",
    "# urllib\n",
    "# requests😃 🎉\n",
    "import requests\n",
    "import urllib\n",
    "\n",
    "from datetime import datetime\n",
    "from dateutil import tz"
   ]
  },
  {
   "cell_type": "code",
   "execution_count": 47,
   "metadata": {},
   "outputs": [
    {
     "name": "stdout",
     "output_type": "stream",
     "text": [
      "==Leanne Graham==\n",
      "Kulas Light\n",
      "==Ervin Howell==\n",
      "Victor Plains\n",
      "==Clementine Bauch==\n",
      "Douglas Extension\n",
      "==Patricia Lebsack==\n",
      "Hoeger Mall\n",
      "==Chelsey Dietrich==\n",
      "Skiles Walks\n",
      "==Mrs. Dennis Schulist==\n",
      "Norberto Crossing\n",
      "==Kurtis Weissnat==\n",
      "Rex Trail\n",
      "==Nicholas Runolfsdottir V==\n",
      "Ellsworth Summit\n",
      "==Glenna Reichert==\n",
      "Dayna Park\n",
      "==Clementina DuBuque==\n",
      "Kattie Turnpike\n"
     ]
    }
   ],
   "source": [
    "url = 'https://jsonplaceholder.typicode.com/users'\n",
    "data = requests.get(url)\n",
    "# print(type(data.json())) #response 200 = OK\n",
    "# print(data.json()['address']['street'])\n",
    "\n",
    "# print(data.json())\n",
    "listData = data.json()\n",
    "# print(listData)\n",
    "for data in data.json(): \n",
    "    print(\"==\" + data['name'] + \"==\")\n",
    "    print(data['address']['street'])"
   ]
  },
  {
   "cell_type": "markdown",
   "metadata": {},
   "source": [
    "## API https://thesportsdb.com/"
   ]
  },
  {
   "cell_type": "code",
   "execution_count": 6,
   "metadata": {},
   "outputs": [
    {
     "name": "stdout",
     "output_type": "stream",
     "text": [
      "masukkan nama klub : arsenal\n",
      "============================================================================\n",
      "1995-03-19\n",
      "1988-10-15\n",
      "1992-09-02\n",
      "1995-01-20\n",
      "1994-09-09\n",
      "1997-08-29\n",
      "1997-06-05\n",
      "1991-05-28\n",
      "1992-04-17\n",
      "1987-04-22\n",
      "1988-06-09\n",
      "1989-06-18\n",
      "1992-03-04\n",
      "1996-08-07\n",
      "1992-09-27\n",
      "1995-09-20\n",
      "1993-06-20\n",
      "1997-12-11\n",
      "1999-04-14\n",
      "1996-02-11\n",
      "1971-11-03\n",
      "1995-05-29\n",
      "1994-05-26\n",
      "1993-03-14\n",
      "1991-09-30\n"
     ]
    }
   ],
   "source": [
    "url = \"https://www.thesportsdb.com/api/v1/json/1/searchplayers.php?t=\"\n",
    "# ============================================================================\n",
    "team = input(\"masukkan nama klub : \")\n",
    "print(\"============================================================================\")\n",
    "#\n",
    "url = url+team\n",
    "data = requests.get(url)\n",
    "# print(data)\n",
    "# print(data.json())\n",
    "players = data.json()['player']\n",
    "\n",
    "if (players) == None :\n",
    "    print(\"maaf tidak ada data\")\n",
    "else:\n",
    "    for  data in players :\n",
    "#     print(data['name'])\n",
    "        print(data['dateBorn'])\n",
    "#         print(data)"
   ]
  },
  {
   "cell_type": "markdown",
   "metadata": {},
   "source": [
    "## OpenWeatherMap API\n",
    "\n",
    "### sample :\n",
    "### https://samples.openweathermap.org/data/2.5/weather?q=London,uk&appid=b6907d289e10d714a6e88b30761fae22 (samples API key)"
   ]
  },
  {
   "cell_type": "code",
   "execution_count": 89,
   "metadata": {},
   "outputs": [
    {
     "name": "stdout",
     "output_type": "stream",
     "text": [
      "1573683929\n",
      "2019-11-13 22:25:29\n",
      "[{'id': 500, 'main': 'Rain', 'description': 'light rain', 'icon': '10d'}]\n"
     ]
    }
   ],
   "source": [
    "apiKey ='f5049b1a0a0a7cb6638eab5e1947c168'\n",
    "weatherByCityURL = 'http://api.openweathermap.org/data/2.5/weather?q='\n",
    "city = 'jakarta'\n",
    "appId = \"&appid=\"+apiKey\n",
    "\n",
    "url = weatherByCityURL+city+appId\n",
    "# print(url)\n",
    "\n",
    "sunrise = data.json()['sys']['sunrise']\n",
    "print(sunrise)\n",
    "myzone = tz.gettz('Asia/Jakarta')\n",
    "utc = datetime.utcfromtimestamp(int(sunrise))\n",
    "print(utc)\n",
    "\n",
    "data = requests.get(url)\n",
    "print(data.json()['weather'])"
   ]
  },
  {
   "cell_type": "markdown",
   "metadata": {},
   "source": [
    "## Quotes"
   ]
  },
  {
   "cell_type": "code",
   "execution_count": 2,
   "metadata": {},
   "outputs": [
    {
     "name": "stdout",
     "output_type": "stream",
     "text": [
      "{'success': {'total': 1}, 'contents': {'quotes': [{'quote': \"What counts is not necessarily the size of the dog in the fight ... it's the size of the fight in the dog.\", 'length': '106', 'author': 'Dwight D Eisenhower', 'tags': ['inspire', 'tod'], 'category': 'inspire', 'date': '2019-11-16', 'permalink': 'https://theysaidso.com/quote/768329-dwight-d-eisenhower-what-counts-is-not-necessarily-the-size-of-the-dog-in-the-fi', 'title': 'Inspiring Quote of the day', 'background': 'https://theysaidso.com/img/bgs/man_on_the_mountain.jpg', 'id': 'jLEJqWoMDdF0nO6lQyUMlAeF'}], 'copyright': '2017-19 theysaidso.com'}}\n"
     ]
    }
   ],
   "source": [
    "url = \"http://quotes.rest/qod\"\n",
    "data = requests.get(url)\n",
    "print(data.json())"
   ]
  },
  {
   "cell_type": "markdown",
   "metadata": {},
   "source": [
    "## Tugas Day 2\n",
    "1. get API sportdb, daftar pemain suatu klub\n",
    "2. input klub apa\n",
    "3. daftar pemain : nama, posisi, usia, negara\n",
    "4. save xlsx, json, csv"
   ]
  }
 ],
 "metadata": {
  "kernelspec": {
   "display_name": "Python 3",
   "language": "python",
   "name": "python3"
  },
  "language_info": {
   "codemirror_mode": {
    "name": "ipython",
    "version": 3
   },
   "file_extension": ".py",
   "mimetype": "text/x-python",
   "name": "python",
   "nbconvert_exporter": "python",
   "pygments_lexer": "ipython3",
   "version": "3.6.1"
  }
 },
 "nbformat": 4,
 "nbformat_minor": 2
}
