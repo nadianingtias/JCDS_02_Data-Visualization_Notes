{
 "cells": [
  {
   "cell_type": "code",
   "execution_count": 1,
   "metadata": {
    "collapsed": true
   },
   "outputs": [],
   "source": [
    "import requests"
   ]
  },
  {
   "cell_type": "code",
   "execution_count": 2,
   "metadata": {},
   "outputs": [
    {
     "name": "stdout",
     "output_type": "stream",
     "text": [
      "ketik nama bank : bca\n",
      "ketik nominal USD : 100\n",
      "100 USD = Rp 1407700\n"
     ]
    }
   ],
   "source": [
    "bank = input('ketik nama bank : ')\n",
    "usd = input('ketik nominal USD : ')\n",
    "\n",
    "url = \"https://kurs.web.id/api/v1/\" + bank\n",
    "hit = requests.get(url)\n",
    "jsonRes = hit.json()\n",
    "# print(jsonRes)\n",
    "if jsonRes['error']==\"true\":\n",
    "    print(\"maaf bank tidak terdaftar\")\n",
    "else:\n",
    "    jual = jsonRes['jual'] #bank jual\n",
    "    beli = jsonRes['beli'] #bank beli\n",
    "    rupiah = int(usd)*int(jual)\n",
    "\n",
    "    print(f\"{usd} USD = Rp {rupiah}\")"
   ]
  },
  {
   "cell_type": "code",
   "execution_count": 8,
   "metadata": {
    "collapsed": true
   },
   "outputs": [],
   "source": [
    "def sep():\n",
    "    print(\"========================================================================\")"
   ]
  },
  {
   "cell_type": "markdown",
   "metadata": {},
   "source": [
    "# Hit Blockchain API"
   ]
  },
  {
   "cell_type": "code",
   "execution_count": 2,
   "metadata": {},
   "outputs": [
    {
     "name": "stdout",
     "output_type": "stream",
     "text": [
      "<class 'float'>\n"
     ]
    }
   ],
   "source": [
    "#HIT blockchain API\n",
    "\n",
    "usd = 500\n",
    "source = f\"https://blockchain.info/tobtc?currency=USD&value={usd}\"\n",
    "jsonHit = requests.get(source)\n",
    "print(type(jsonHit.json()))"
   ]
  },
  {
   "cell_type": "code",
   "execution_count": null,
   "metadata": {
    "collapsed": true
   },
   "outputs": [],
   "source": [
    "def getUSDfromBitcoin(bitcoin):\n",
    "    source = \"https://blockchain.info/ticker\"\n",
    "    hit = requests.get(source)\n",
    "    rate= hit.json()['USD']['buy']\n",
    "    usd = bitcoin*rate\n",
    "    return usd\n",
    "def getBitcoinFromUSD(usd):\n",
    "    source = f\"https://blockchain.info/tobtc?currency=USD&value={usd}\"\n",
    "    jsonHit = requests.get(source)\n",
    "    bitcoin = jsonHit.json()\n",
    "    print(bitcoin)\n",
    "    return bitcoin\n",
    "\n",
    "# print(\"Pilih Opsi : \")\n",
    "print(\"1. USD => Rp\")\n",
    "print(\"2. Rp => USD\")\n",
    "print(\"3. Rp => Bitcoin\")\n",
    "print(\"4. Bitcoin => USD\")\n",
    "print(\"5. Bitcoin => Rp\")\n",
    "pilihan = int(input(\"Pilihan anda : \"))\n",
    "if pilihan not in range(1,6):\n",
    "    print(\"maaf pilihan salah\")\n",
    "else:\n",
    "    nominal = int(input(\"ketik nominal : \"))\n",
    "    if pilihan == 4:\n",
    "        usd = getUSDfromBitcoin(nominal)\n",
    "        sep()\n",
    "        print(f\"konversi Bitcoin {nominal} : US$. {usd}\")\n",
    "    else:\n",
    "        sourceURL = \"https://kurs.web.id/api/v1/\"\n",
    "        bank = input(\"Nama Bank : \")\n",
    "        url = sourceURL + bank\n",
    "        hit = requests.get(url)\n",
    "        jsonRes = hit.json()\n",
    "\n",
    "        if jsonRes['error']==\"true\":\n",
    "            print(\"maaf bank tidak terdaftar\")\n",
    "        else:\n",
    "            jual = float(jsonRes['jual'])\n",
    "            beli = float(jsonRes['beli'])\n",
    "\n",
    "def getUSDFromRupiah(rupiah):\n",
    "    usd = rupiah/jual\n",
    "    return usd\n",
    "def getRupiahFromUSD(usd):\n",
    "    rupiah = usd *jual\n",
    "    return rupiah\n",
    "\n",
    "                        \n",
    "if pilihan == 1:\n",
    "    hslKonversi = getRupiahFromUSD(nominal)\n",
    "    sep()\n",
    "    print(f\"konversi US$ {nominal} : Rp. {hslKonversi}\")\n",
    "elif pilihan == 2:\n",
    "    hslKonversi = getUSD(nominal)\n",
    "    sep()\n",
    "    print(f\"konversi Rp {nominal} : US$. {hslKonversi}\")\n",
    "elif pilihan == 3:\n",
    "    usdThis = getUSDFromRupiah(nominal)\n",
    "#     print(usdThis)?\n",
    "    hslKonversi = getBitcoinFromUSD(usdThis)\n",
    "    sep()\n",
    "    print(f\"konversi Rp {nominal} : bitcoin$. {hslKonversi}\")\n",
    "    \n",
    "else: \"maaf pilihan anda salah\"\n",
    "    "
   ]
  },
  {
   "cell_type": "markdown",
   "metadata": {},
   "source": [
    "# HIT Zomato API"
   ]
  },
  {
   "cell_type": "code",
   "execution_count": 4,
   "metadata": {
    "collapsed": true
   },
   "outputs": [],
   "source": [
    "# ZOMATO\n",
    "host ='https://developers.zomato.com/api/v2.1/'\n",
    "kategoriURL = '/categories'\n",
    "apiKeyZomato = \"72bfa73f6befeb8316820927aaff84a4\"\n",
    "\n",
    "headInfo = {\n",
    "    'user-key' : apiKeyZomato\n",
    "}\n",
    "\n",
    "url = host + kategoriURL\n",
    "data = requests.get(url, headers = headInfo)\n",
    "jsonData = data.json()\n",
    "dataKategori = jsonData['categories']\n",
    "# print(jsonData)"
   ]
  },
  {
   "cell_type": "code",
   "execution_count": 2,
   "metadata": {},
   "outputs": [],
   "source": [
    "# TUGAS\n",
    "# akses api zomato untuk inputan user cari soto di kota tertentu."
   ]
  }
 ],
 "metadata": {
  "kernelspec": {
   "display_name": "Python 3",
   "language": "python",
   "name": "python3"
  },
  "language_info": {
   "codemirror_mode": {
    "name": "ipython",
    "version": 3
   },
   "file_extension": ".py",
   "mimetype": "text/x-python",
   "name": "python",
   "nbconvert_exporter": "python",
   "pygments_lexer": "ipython3",
   "version": "3.6.1"
  }
 },
 "nbformat": 4,
 "nbformat_minor": 2
}
