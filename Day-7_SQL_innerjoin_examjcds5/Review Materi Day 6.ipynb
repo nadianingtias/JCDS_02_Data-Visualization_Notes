{
 "cells": [
  {
   "cell_type": "code",
   "execution_count": 2,
   "metadata": {},
   "outputs": [],
   "source": [
    "import mysql.connector"
   ]
  },
  {
   "cell_type": "code",
   "execution_count": 10,
   "metadata": {},
   "outputs": [],
   "source": [
    "db = mysql.connector.connect(\n",
    "    host = 'localhost',\n",
    "    user = 'nadian',\n",
    "    passwd = 'nadian',\n",
    "    database = 'myshop'\n",
    ")"
   ]
  },
  {
   "cell_type": "markdown",
   "metadata": {},
   "source": [
    "## kursor tanpa dictionary"
   ]
  },
  {
   "cell_type": "code",
   "execution_count": 19,
   "metadata": {},
   "outputs": [
    {
     "name": "stdout",
     "output_type": "stream",
     "text": [
      "[(1, 'ani', None, 5000000, {'wanita'}, datetime.datetime(2019, 11, 21, 9, 34, 51)), (2, 'Anna', None, 5000000, {'wanita'}, datetime.datetime(2019, 11, 21, 9, 39, 34)), (3, 'Kristoff', None, 5000000, {'pria'}, datetime.datetime(2019, 11, 21, 9, 36, 56)), (4, 'olaf', None, 7000000, {'pria', 'wanita'}, datetime.datetime(2019, 11, 21, 9, 37, 38)), (9, 'Nadia', None, 15000000, None, datetime.datetime(2019, 11, 21, 11, 57, 23)), (10, 'Nadia Ningtias', None, 15000000, None, datetime.datetime(2019, 11, 21, 11, 58)), (11, 'Nadia Ningtias', None, 15000000, None, datetime.datetime(2019, 11, 21, 11, 59, 58)), (12, 'Nadia Ningtias', None, 15000000, None, datetime.datetime(2019, 11, 21, 12, 0)), (13, 'Maya', None, 20000000, None, datetime.datetime(2019, 11, 21, 12, 0)), (14, 'Nadia Ningtias', None, 15000000, None, datetime.datetime(2019, 11, 21, 12, 1, 3)), (15, 'Maya', None, 20000000, None, datetime.datetime(2019, 11, 21, 12, 1, 3))]\n",
      "['ani', 'Anna', 'Kristoff', 'olaf', 'Nadia', 'Nadia Ningtias', 'Nadia Ningtias', 'Nadia Ningtias', 'Maya', 'Nadia Ningtias', 'Maya']\n"
     ]
    }
   ],
   "source": [
    "c =  db.cursor()\n",
    "sql = \"select * from karyawan\"\n",
    "c.execute(sql)\n",
    "out = c.fetchall()\n",
    "print(out)\n",
    "\n",
    "print(list(map(lambda x : x[1], out)))"
   ]
  },
  {
   "cell_type": "markdown",
   "metadata": {},
   "source": [
    "## Kursor dengan dictionary"
   ]
  },
  {
   "cell_type": "code",
   "execution_count": 32,
   "metadata": {},
   "outputs": [
    {
     "name": "stdout",
     "output_type": "stream",
     "text": [
      "['ani', 'Anna', 'Kristoff', 'olaf', 'Nadia', 'Nadia Ningtias', 'Nadia Ningtias', 'Nadia Ningtias', 'Maya', 'Nadia Ningtias', 'Maya']\n"
     ]
    }
   ],
   "source": [
    "def selectAll():\n",
    "    c =  db.cursor(dictionary=True)\n",
    "    sql = \"select * from karyawan\"\n",
    "    c.execute(sql)\n",
    "    out = c.fetchall()\n",
    "    print(out)\n",
    "print(list(map(lambda x : x[1], out)))"
   ]
  },
  {
   "cell_type": "markdown",
   "metadata": {},
   "source": [
    "# INSERT"
   ]
  },
  {
   "cell_type": "code",
   "execution_count": 25,
   "metadata": {},
   "outputs": [
    {
     "name": "stdout",
     "output_type": "stream",
     "text": [
      "[{'nama': 'ani'}, {'nama': 'Anna'}, {'nama': 'Kristoff'}, {'nama': 'olaf'}, {'nama': 'Nadia'}, {'nama': 'Nadia Ningtias'}, {'nama': 'Nadia Ningtias'}, {'nama': 'Nadia Ningtias'}, {'nama': 'Maya'}, {'nama': 'Nadia Ningtias'}, {'nama': 'Maya'}, {'nama': 'Andi'}, {'nama': 'Andi'}, {'nama': 'Andi'}, {'nama': 'Andi'}]\n"
     ]
    }
   ],
   "source": [
    "c =  db.cursor(dictionary=True)\n",
    "sql = \"insert into karyawan (nama) values (%s)\"\n",
    "data = ('Andi',)\n",
    "c.execute(sql,data)\n",
    "# out = c.fetchall()\n",
    "db.commit()\n",
    "\n",
    "selectAll()"
   ]
  },
  {
   "cell_type": "markdown",
   "metadata": {},
   "source": [
    "# DELETE"
   ]
  },
  {
   "cell_type": "code",
   "execution_count": 27,
   "metadata": {},
   "outputs": [
    {
     "name": "stdout",
     "output_type": "stream",
     "text": [
      "[{'nama': 'ani'}, {'nama': 'Anna'}, {'nama': 'Kristoff'}, {'nama': 'olaf'}, {'nama': 'Nadia'}, {'nama': 'Nadia Ningtias'}, {'nama': 'Nadia Ningtias'}, {'nama': 'Nadia Ningtias'}, {'nama': 'Maya'}, {'nama': 'Nadia Ningtias'}, {'nama': 'Maya'}]\n"
     ]
    }
   ],
   "source": [
    "c =  db.cursor(dictionary=True)\n",
    "sql = \"delete from karyawan where nama =(%s)\"\n",
    "data = ('Andi',)\n",
    "c.execute(sql,data)\n",
    "# out = c.fetchall()\n",
    "db.commit()\n",
    "\n",
    "selectAll()"
   ]
  },
  {
   "cell_type": "markdown",
   "metadata": {},
   "source": [
    "# UPDATE"
   ]
  },
  {
   "cell_type": "code",
   "execution_count": 29,
   "metadata": {},
   "outputs": [
    {
     "name": "stdout",
     "output_type": "stream",
     "text": [
      "[{'nama': 'ani'}, {'nama': 'Anna'}, {'nama': 'Kristoff'}, {'nama': 'olaf 2'}, {'nama': 'Nadia'}, {'nama': 'Nadia Ningtias'}, {'nama': 'Nadia Ningtias'}, {'nama': 'Nadia Ningtias'}, {'nama': 'Maya'}, {'nama': 'Nadia Ningtias'}, {'nama': 'Maya'}]\n"
     ]
    }
   ],
   "source": [
    "c =  db.cursor(dictionary=True)\n",
    "sql = \"UPDATE karyawan SET nama = (%s) WHERE nama = 'olaf'\"\n",
    "data = ('olaf 2',)\n",
    "c.execute(sql,data)\n",
    "# out = c.fetchall()\n",
    "db.commit()\n",
    "\n",
    "selectAll()"
   ]
  },
  {
   "cell_type": "code",
   "execution_count": 30,
   "metadata": {},
   "outputs": [
    {
     "name": "stdout",
     "output_type": "stream",
     "text": [
      "[{'nama': 'ani'}, {'nama': 'Anna'}, {'nama': 'Kristoff'}, {'nama': 'olaf 2'}, {'nama': 'Nadia'}, {'nama': 'Nadia Ningtias'}, {'nama': 'Nadia Ningtias'}, {'nama': 'Nadia Ningtias'}, {'nama': 'Maya'}, {'nama': 'Nadia Ningtias'}, {'nama': 'Maya'}]\n"
     ]
    }
   ],
   "source": [
    "c =  db.cursor(dictionary=True)\n",
    "sql = \"UPDATE karyawan SET nama = (%s), gaji = (%s) WHERE nama = 'nadia%' and gaji < 6000000\"\n",
    "data = ('olaf 2', 20000000)\n",
    "c.execute(sql,data)\n",
    "# out = c.fetchall()\n",
    "db.commit()\n",
    "\n",
    "selectAll()"
   ]
  },
  {
   "cell_type": "markdown",
   "metadata": {},
   "source": [
    "## Alter table TAMBAH KOLOM"
   ]
  },
  {
   "cell_type": "code",
   "execution_count": 35,
   "metadata": {},
   "outputs": [
    {
     "name": "stdout",
     "output_type": "stream",
     "text": [
      "[{'id_kar': 1, 'nama': 'ani', 'alamat': None, 'gaji': 5000000, 'sex': {'wanita'}, 'created_at': datetime.datetime(2019, 11, 21, 9, 34, 51), 'hobby': None, 'pencapaian': None}, {'id_kar': 2, 'nama': 'Anna', 'alamat': None, 'gaji': 5000000, 'sex': {'wanita'}, 'created_at': datetime.datetime(2019, 11, 21, 9, 39, 34), 'hobby': None, 'pencapaian': None}, {'id_kar': 3, 'nama': 'Kristoff', 'alamat': None, 'gaji': 5000000, 'sex': {'pria'}, 'created_at': datetime.datetime(2019, 11, 21, 9, 36, 56), 'hobby': None, 'pencapaian': None}, {'id_kar': 4, 'nama': 'olaf 2', 'alamat': None, 'gaji': 7000000, 'sex': {'pria', 'wanita'}, 'created_at': datetime.datetime(2019, 11, 21, 9, 37, 38), 'hobby': None, 'pencapaian': None}, {'id_kar': 9, 'nama': 'Nadia', 'alamat': None, 'gaji': 15000000, 'sex': None, 'created_at': datetime.datetime(2019, 11, 21, 11, 57, 23), 'hobby': None, 'pencapaian': None}, {'id_kar': 10, 'nama': 'Nadia Ningtias', 'alamat': None, 'gaji': 15000000, 'sex': None, 'created_at': datetime.datetime(2019, 11, 21, 11, 58), 'hobby': None, 'pencapaian': None}, {'id_kar': 11, 'nama': 'Nadia Ningtias', 'alamat': None, 'gaji': 15000000, 'sex': None, 'created_at': datetime.datetime(2019, 11, 21, 11, 59, 58), 'hobby': None, 'pencapaian': None}, {'id_kar': 12, 'nama': 'Nadia Ningtias', 'alamat': None, 'gaji': 15000000, 'sex': None, 'created_at': datetime.datetime(2019, 11, 21, 12, 0), 'hobby': None, 'pencapaian': None}, {'id_kar': 13, 'nama': 'Maya', 'alamat': None, 'gaji': 20000000, 'sex': None, 'created_at': datetime.datetime(2019, 11, 21, 12, 0), 'hobby': None, 'pencapaian': None}, {'id_kar': 14, 'nama': 'Nadia Ningtias', 'alamat': None, 'gaji': 15000000, 'sex': None, 'created_at': datetime.datetime(2019, 11, 21, 12, 1, 3), 'hobby': None, 'pencapaian': None}, {'id_kar': 15, 'nama': 'Maya', 'alamat': None, 'gaji': 20000000, 'sex': None, 'created_at': datetime.datetime(2019, 11, 21, 12, 1, 3), 'hobby': None, 'pencapaian': None}]\n"
     ]
    }
   ],
   "source": [
    "c =  db.cursor(dictionary=True)\n",
    "sql = \"ALTER TABLE karyawan ADD COLUMN pencapaian varchar(100)\"\n",
    "# data = ('olaf 2', 20000000)\n",
    "c.execute(sql)\n",
    "# out = c.fetchall()\n",
    "db.commit()\n",
    "\n",
    "selectAll()"
   ]
  },
  {
   "cell_type": "code",
   "execution_count": 36,
   "metadata": {
    "scrolled": true
   },
   "outputs": [
    {
     "name": "stdout",
     "output_type": "stream",
     "text": [
      "[{'id_kar': 1, 'nama': 'ani', 'alamat': None, 'gaji': 5000000, 'sex': {'wanita'}, 'created_at': datetime.datetime(2019, 11, 21, 9, 34, 51), 'hobby': None, 'pencapaian': None}, {'id_kar': 2, 'nama': 'Anna', 'alamat': None, 'gaji': 5000000, 'sex': {'wanita'}, 'created_at': datetime.datetime(2019, 11, 21, 9, 39, 34), 'hobby': None, 'pencapaian': None}, {'id_kar': 3, 'nama': 'Kristoff', 'alamat': None, 'gaji': 5000000, 'sex': {'pria'}, 'created_at': datetime.datetime(2019, 11, 21, 9, 36, 56), 'hobby': None, 'pencapaian': None}, {'id_kar': 4, 'nama': 'olaf 2', 'alamat': None, 'gaji': 7000000, 'sex': {'pria', 'wanita'}, 'created_at': datetime.datetime(2019, 11, 21, 9, 37, 38), 'hobby': None, 'pencapaian': None}, {'id_kar': 9, 'nama': 'Nadia', 'alamat': None, 'gaji': 15000000, 'sex': None, 'created_at': datetime.datetime(2019, 11, 21, 11, 57, 23), 'hobby': None, 'pencapaian': None}, {'id_kar': 10, 'nama': 'Nadia Ningtias', 'alamat': None, 'gaji': 15000000, 'sex': None, 'created_at': datetime.datetime(2019, 11, 21, 11, 58), 'hobby': None, 'pencapaian': None}, {'id_kar': 11, 'nama': 'Nadia Ningtias', 'alamat': None, 'gaji': 15000000, 'sex': None, 'created_at': datetime.datetime(2019, 11, 21, 11, 59, 58), 'hobby': None, 'pencapaian': None}, {'id_kar': 12, 'nama': 'Nadia Ningtias', 'alamat': None, 'gaji': 15000000, 'sex': None, 'created_at': datetime.datetime(2019, 11, 21, 12, 0), 'hobby': None, 'pencapaian': None}, {'id_kar': 13, 'nama': 'Maya', 'alamat': None, 'gaji': 20000000, 'sex': None, 'created_at': datetime.datetime(2019, 11, 21, 12, 0), 'hobby': None, 'pencapaian': None}, {'id_kar': 14, 'nama': 'Nadia Ningtias', 'alamat': None, 'gaji': 15000000, 'sex': None, 'created_at': datetime.datetime(2019, 11, 21, 12, 1, 3), 'hobby': None, 'pencapaian': None}, {'id_kar': 15, 'nama': 'Maya', 'alamat': None, 'gaji': 20000000, 'sex': None, 'created_at': datetime.datetime(2019, 11, 21, 12, 1, 3), 'hobby': None, 'pencapaian': None}]\n"
     ]
    }
   ],
   "source": [
    "selectAll()"
   ]
  }
 ],
 "metadata": {
  "kernelspec": {
   "display_name": "Python 3",
   "language": "python",
   "name": "python3"
  },
  "language_info": {
   "codemirror_mode": {
    "name": "ipython",
    "version": 3
   },
   "file_extension": ".py",
   "mimetype": "text/x-python",
   "name": "python",
   "nbconvert_exporter": "python",
   "pygments_lexer": "ipython3",
   "version": "3.6.1"
  }
 },
 "nbformat": 4,
 "nbformat_minor": 2
}
